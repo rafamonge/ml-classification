{
 "cells": [
  {
   "cell_type": "markdown",
   "metadata": {},
   "source": [
    "# Predicting sentiment from product reviews\n",
    "\n",
    "\n",
    "The goal of this first notebook is to explore logistic regression and feature engineering with existing GraphLab functions.\n",
    "\n",
    "In this notebook you will use product review data from Amazon.com to predict whether the sentiments about a product (from its reviews) are positive or negative.\n",
    "\n",
    "* Use SFrames to do some feature engineering\n",
    "* Train a logistic regression model to predict the sentiment of product reviews.\n",
    "* Inspect the weights (coefficients) of a trained logistic regression model.\n",
    "* Make a prediction (both class and probability) of sentiment for a new product review.\n",
    "* Given the logistic regression weights, predictors and ground truth labels, write a function to compute the **accuracy** of the model.\n",
    "* Inspect the coefficients of the logistic regression model and interpret their meanings.\n",
    "* Compare multiple logistic regression models.\n",
    "\n",
    "Let's get started!\n",
    "    \n",
    "## Fire up GraphLab Create"
   ]
  },
  {
   "cell_type": "markdown",
   "metadata": {},
   "source": [
    "Make sure you have the latest version of GraphLab Create."
   ]
  },
  {
   "cell_type": "code",
   "execution_count": 20,
   "metadata": {
    "collapsed": false
   },
   "outputs": [],
   "source": [
    "import numpy as np\n",
    "import zipfile\n",
    "import matplotlib.pyplot as plt \n",
    "import pandas as pd \n",
    "from pandas import DataFrame, Series\n",
    "from sklearn import linear_model\n",
    "from sklearn.linear_model import LogisticRegression\n",
    "from sklearn.metrics import mean_squared_error\n",
    "import json\n",
    "from pprint import pprint\n",
    "import string"
   ]
  },
  {
   "cell_type": "markdown",
   "metadata": {},
   "source": [
    "# Data preperation\n",
    "\n",
    "We will use a dataset consisting of baby product reviews on Amazon.com."
   ]
  },
  {
   "cell_type": "code",
   "execution_count": 21,
   "metadata": {
    "collapsed": false
   },
   "outputs": [],
   "source": [
    "dtype_dict = {'name':str, 'review':str, 'rating':int}\n",
    "\n",
    "with zipfile.ZipFile('amazon_baby.csv.zip', \"r\") as z:\n",
    "    z.extractall()\n",
    "products = pd.read_csv('amazon_baby.csv',dtype=dtype_dict,keep_default_na=False)\n"
   ]
  },
  {
   "cell_type": "markdown",
   "metadata": {},
   "source": [
    "Now, let us see a preview of what the dataset looks like."
   ]
  },
  {
   "cell_type": "code",
   "execution_count": 22,
   "metadata": {
    "collapsed": false
   },
   "outputs": [
    {
     "data": {
      "text/html": [
       "<div>\n",
       "<table border=\"1\" class=\"dataframe\">\n",
       "  <thead>\n",
       "    <tr style=\"text-align: right;\">\n",
       "      <th></th>\n",
       "      <th>name</th>\n",
       "      <th>review</th>\n",
       "      <th>rating</th>\n",
       "    </tr>\n",
       "  </thead>\n",
       "  <tbody>\n",
       "    <tr>\n",
       "      <th>0</th>\n",
       "      <td>Planetwise Flannel Wipes</td>\n",
       "      <td>These flannel wipes are OK, but in my opinion ...</td>\n",
       "      <td>3</td>\n",
       "    </tr>\n",
       "    <tr>\n",
       "      <th>1</th>\n",
       "      <td>Planetwise Wipe Pouch</td>\n",
       "      <td>it came early and was not disappointed. i love...</td>\n",
       "      <td>5</td>\n",
       "    </tr>\n",
       "    <tr>\n",
       "      <th>2</th>\n",
       "      <td>Annas Dream Full Quilt with 2 Shams</td>\n",
       "      <td>Very soft and comfortable and warmer than it l...</td>\n",
       "      <td>5</td>\n",
       "    </tr>\n",
       "    <tr>\n",
       "      <th>3</th>\n",
       "      <td>Stop Pacifier Sucking without tears with Thumb...</td>\n",
       "      <td>This is a product well worth the purchase.  I ...</td>\n",
       "      <td>5</td>\n",
       "    </tr>\n",
       "    <tr>\n",
       "      <th>4</th>\n",
       "      <td>Stop Pacifier Sucking without tears with Thumb...</td>\n",
       "      <td>All of my kids have cried non-stop when I trie...</td>\n",
       "      <td>5</td>\n",
       "    </tr>\n",
       "  </tbody>\n",
       "</table>\n",
       "</div>"
      ],
      "text/plain": [
       "                                                name  \\\n",
       "0                           Planetwise Flannel Wipes   \n",
       "1                              Planetwise Wipe Pouch   \n",
       "2                Annas Dream Full Quilt with 2 Shams   \n",
       "3  Stop Pacifier Sucking without tears with Thumb...   \n",
       "4  Stop Pacifier Sucking without tears with Thumb...   \n",
       "\n",
       "                                              review  rating  \n",
       "0  These flannel wipes are OK, but in my opinion ...       3  \n",
       "1  it came early and was not disappointed. i love...       5  \n",
       "2  Very soft and comfortable and warmer than it l...       5  \n",
       "3  This is a product well worth the purchase.  I ...       5  \n",
       "4  All of my kids have cried non-stop when I trie...       5  "
      ]
     },
     "execution_count": 22,
     "metadata": {},
     "output_type": "execute_result"
    }
   ],
   "source": [
    "products.head()"
   ]
  },
  {
   "cell_type": "markdown",
   "metadata": {},
   "source": [
    "## Build the word count vector for each review"
   ]
  },
  {
   "cell_type": "markdown",
   "metadata": {},
   "source": [
    "Let us explore a specific example of a baby product.\n"
   ]
  },
  {
   "cell_type": "code",
   "execution_count": 23,
   "metadata": {
    "collapsed": false
   },
   "outputs": [
    {
     "data": {
      "text/plain": [
       "name      The First Years Massaging Action Teether\n",
       "review                    A favorite in our house!\n",
       "rating                                           5\n",
       "Name: 269, dtype: object"
      ]
     },
     "execution_count": 23,
     "metadata": {},
     "output_type": "execute_result"
    }
   ],
   "source": [
    "products.ix[269]"
   ]
  },
  {
   "cell_type": "markdown",
   "metadata": {},
   "source": [
    "Now, we will perform 2 simple data transformations:\n",
    "\n",
    "1. Remove punctuation using [Python's built-in](https://docs.python.org/2/library/string.html) string functionality.\n",
    "2. Transform the reviews into word-counts.\n",
    "\n",
    "**Aside**. In this notebook, we remove all punctuations for the sake of simplicity. A smarter approach to punctuations would preserve phrases such as \"I'd\", \"would've\", \"hadn't\" and so forth. See [this page](https://www.cis.upenn.edu/~treebank/tokenization.html) for an example of smart handling of punctuations."
   ]
  },
  {
   "cell_type": "code",
   "execution_count": 64,
   "metadata": {
    "collapsed": false,
    "scrolled": true
   },
   "outputs": [
    {
     "data": {
      "text/html": [
       "<div>\n",
       "<table border=\"1\" class=\"dataframe\">\n",
       "  <thead>\n",
       "    <tr style=\"text-align: right;\">\n",
       "      <th></th>\n",
       "      <th>name</th>\n",
       "      <th>review</th>\n",
       "      <th>rating</th>\n",
       "      <th>review_clean</th>\n",
       "      <th>sentiment</th>\n",
       "    </tr>\n",
       "  </thead>\n",
       "  <tbody>\n",
       "    <tr>\n",
       "      <th>1</th>\n",
       "      <td>Planetwise Wipe Pouch</td>\n",
       "      <td>it came early and was not disappointed. i love...</td>\n",
       "      <td>5</td>\n",
       "      <td>it came early and was not disappointed i love ...</td>\n",
       "      <td>1</td>\n",
       "    </tr>\n",
       "    <tr>\n",
       "      <th>2</th>\n",
       "      <td>Annas Dream Full Quilt with 2 Shams</td>\n",
       "      <td>Very soft and comfortable and warmer than it l...</td>\n",
       "      <td>5</td>\n",
       "      <td>Very soft and comfortable and warmer than it l...</td>\n",
       "      <td>1</td>\n",
       "    </tr>\n",
       "    <tr>\n",
       "      <th>3</th>\n",
       "      <td>Stop Pacifier Sucking without tears with Thumb...</td>\n",
       "      <td>This is a product well worth the purchase.  I ...</td>\n",
       "      <td>5</td>\n",
       "      <td>This is a product well worth the purchase  I h...</td>\n",
       "      <td>1</td>\n",
       "    </tr>\n",
       "    <tr>\n",
       "      <th>4</th>\n",
       "      <td>Stop Pacifier Sucking without tears with Thumb...</td>\n",
       "      <td>All of my kids have cried non-stop when I trie...</td>\n",
       "      <td>5</td>\n",
       "      <td>All of my kids have cried nonstop when I tried...</td>\n",
       "      <td>1</td>\n",
       "    </tr>\n",
       "    <tr>\n",
       "      <th>5</th>\n",
       "      <td>Stop Pacifier Sucking without tears with Thumb...</td>\n",
       "      <td>When the Binky Fairy came to our house, we did...</td>\n",
       "      <td>5</td>\n",
       "      <td>When the Binky Fairy came to our house we didn...</td>\n",
       "      <td>1</td>\n",
       "    </tr>\n",
       "  </tbody>\n",
       "</table>\n",
       "</div>"
      ],
      "text/plain": [
       "                                                name  \\\n",
       "1                              Planetwise Wipe Pouch   \n",
       "2                Annas Dream Full Quilt with 2 Shams   \n",
       "3  Stop Pacifier Sucking without tears with Thumb...   \n",
       "4  Stop Pacifier Sucking without tears with Thumb...   \n",
       "5  Stop Pacifier Sucking without tears with Thumb...   \n",
       "\n",
       "                                              review  rating  \\\n",
       "1  it came early and was not disappointed. i love...       5   \n",
       "2  Very soft and comfortable and warmer than it l...       5   \n",
       "3  This is a product well worth the purchase.  I ...       5   \n",
       "4  All of my kids have cried non-stop when I trie...       5   \n",
       "5  When the Binky Fairy came to our house, we did...       5   \n",
       "\n",
       "                                        review_clean  sentiment  \n",
       "1  it came early and was not disappointed i love ...          1  \n",
       "2  Very soft and comfortable and warmer than it l...          1  \n",
       "3  This is a product well worth the purchase  I h...          1  \n",
       "4  All of my kids have cried nonstop when I tried...          1  \n",
       "5  When the Binky Fairy came to our house we didn...          1  "
      ]
     },
     "execution_count": 64,
     "metadata": {},
     "output_type": "execute_result"
    }
   ],
   "source": [
    "remove_punct_map = dict.fromkeys(map(ord, string.punctuation))\n",
    "\n",
    "def remove_punctuation(text):\n",
    "    return text.translate(remove_punct_map) \n",
    "\n",
    "products['review_clean'] = products['review'].apply(remove_punctuation)\n",
    "products.head()"
   ]
  },
  {
   "cell_type": "markdown",
   "metadata": {},
   "source": [
    "Now, let us explore what the sample example above looks like after these 2 transformations. Here, each entry in the **word_count** column is a dictionary where the key is the word and the value is a count of the number of times the word occurs."
   ]
  },
  {
   "cell_type": "code",
   "execution_count": 25,
   "metadata": {
    "collapsed": false
   },
   "outputs": [
    {
     "data": {
      "text/plain": [
       "name            The First Years Massaging Action Teether\n",
       "review                          A favorite in our house!\n",
       "rating                                                 5\n",
       "review_clean                     A favorite in our house\n",
       "Name: 269, dtype: object"
      ]
     },
     "execution_count": 25,
     "metadata": {},
     "output_type": "execute_result"
    }
   ],
   "source": [
    "products.ix[269]"
   ]
  },
  {
   "cell_type": "markdown",
   "metadata": {},
   "source": [
    "## Extract sentiments\n",
    "\n",
    "We will **ignore** all reviews with *rating = 3*, since they tend to have a neutral sentiment."
   ]
  },
  {
   "cell_type": "code",
   "execution_count": 26,
   "metadata": {
    "collapsed": false
   },
   "outputs": [
    {
     "data": {
      "text/plain": [
       "166752"
      ]
     },
     "execution_count": 26,
     "metadata": {},
     "output_type": "execute_result"
    }
   ],
   "source": [
    "products = products[products['rating'] != 3]\n",
    "len(products)"
   ]
  },
  {
   "cell_type": "markdown",
   "metadata": {},
   "source": [
    "Now, we will assign reviews with a rating of 4 or higher to be *positive* reviews, while the ones with rating of 2 or lower are *negative*. For the sentiment column, we use +1 for the positive class label and -1 for the negative class label."
   ]
  },
  {
   "cell_type": "code",
   "execution_count": 65,
   "metadata": {
    "collapsed": false
   },
   "outputs": [
    {
     "data": {
      "text/html": [
       "<div>\n",
       "<table border=\"1\" class=\"dataframe\">\n",
       "  <thead>\n",
       "    <tr style=\"text-align: right;\">\n",
       "      <th></th>\n",
       "      <th>name</th>\n",
       "      <th>review</th>\n",
       "      <th>rating</th>\n",
       "      <th>review_clean</th>\n",
       "      <th>sentiment</th>\n",
       "    </tr>\n",
       "  </thead>\n",
       "  <tbody>\n",
       "    <tr>\n",
       "      <th>1</th>\n",
       "      <td>Planetwise Wipe Pouch</td>\n",
       "      <td>it came early and was not disappointed. i love...</td>\n",
       "      <td>5</td>\n",
       "      <td>it came early and was not disappointed i love ...</td>\n",
       "      <td>1</td>\n",
       "    </tr>\n",
       "    <tr>\n",
       "      <th>2</th>\n",
       "      <td>Annas Dream Full Quilt with 2 Shams</td>\n",
       "      <td>Very soft and comfortable and warmer than it l...</td>\n",
       "      <td>5</td>\n",
       "      <td>Very soft and comfortable and warmer than it l...</td>\n",
       "      <td>1</td>\n",
       "    </tr>\n",
       "    <tr>\n",
       "      <th>3</th>\n",
       "      <td>Stop Pacifier Sucking without tears with Thumb...</td>\n",
       "      <td>This is a product well worth the purchase.  I ...</td>\n",
       "      <td>5</td>\n",
       "      <td>This is a product well worth the purchase  I h...</td>\n",
       "      <td>1</td>\n",
       "    </tr>\n",
       "    <tr>\n",
       "      <th>4</th>\n",
       "      <td>Stop Pacifier Sucking without tears with Thumb...</td>\n",
       "      <td>All of my kids have cried non-stop when I trie...</td>\n",
       "      <td>5</td>\n",
       "      <td>All of my kids have cried nonstop when I tried...</td>\n",
       "      <td>1</td>\n",
       "    </tr>\n",
       "    <tr>\n",
       "      <th>5</th>\n",
       "      <td>Stop Pacifier Sucking without tears with Thumb...</td>\n",
       "      <td>When the Binky Fairy came to our house, we did...</td>\n",
       "      <td>5</td>\n",
       "      <td>When the Binky Fairy came to our house we didn...</td>\n",
       "      <td>1</td>\n",
       "    </tr>\n",
       "    <tr>\n",
       "      <th>6</th>\n",
       "      <td>A Tale of Baby's Days with Peter Rabbit</td>\n",
       "      <td>Lovely book, it's bound tightly so you may not...</td>\n",
       "      <td>4</td>\n",
       "      <td>Lovely book its bound tightly so you may not b...</td>\n",
       "      <td>1</td>\n",
       "    </tr>\n",
       "    <tr>\n",
       "      <th>7</th>\n",
       "      <td>Baby Tracker&amp;reg; - Daily Childcare Journal, S...</td>\n",
       "      <td>Perfect for new parents. We were able to keep ...</td>\n",
       "      <td>5</td>\n",
       "      <td>Perfect for new parents We were able to keep t...</td>\n",
       "      <td>1</td>\n",
       "    </tr>\n",
       "    <tr>\n",
       "      <th>8</th>\n",
       "      <td>Baby Tracker&amp;reg; - Daily Childcare Journal, S...</td>\n",
       "      <td>A friend of mine pinned this product on Pinter...</td>\n",
       "      <td>5</td>\n",
       "      <td>A friend of mine pinned this product on Pinter...</td>\n",
       "      <td>1</td>\n",
       "    </tr>\n",
       "    <tr>\n",
       "      <th>9</th>\n",
       "      <td>Baby Tracker&amp;reg; - Daily Childcare Journal, S...</td>\n",
       "      <td>This has been an easy way for my nanny to reco...</td>\n",
       "      <td>4</td>\n",
       "      <td>This has been an easy way for my nanny to reco...</td>\n",
       "      <td>1</td>\n",
       "    </tr>\n",
       "    <tr>\n",
       "      <th>10</th>\n",
       "      <td>Baby Tracker&amp;reg; - Daily Childcare Journal, S...</td>\n",
       "      <td>I love this journal and our nanny uses it ever...</td>\n",
       "      <td>4</td>\n",
       "      <td>I love this journal and our nanny uses it ever...</td>\n",
       "      <td>1</td>\n",
       "    </tr>\n",
       "    <tr>\n",
       "      <th>11</th>\n",
       "      <td>Baby Tracker&amp;reg; - Daily Childcare Journal, S...</td>\n",
       "      <td>This book is perfect!  I'm a first time new mo...</td>\n",
       "      <td>5</td>\n",
       "      <td>This book is perfect  Im a first time new mom ...</td>\n",
       "      <td>1</td>\n",
       "    </tr>\n",
       "    <tr>\n",
       "      <th>12</th>\n",
       "      <td>Baby Tracker&amp;reg; - Daily Childcare Journal, S...</td>\n",
       "      <td>I originally just gave the nanny a pad of pape...</td>\n",
       "      <td>4</td>\n",
       "      <td>I originally just gave the nanny a pad of pape...</td>\n",
       "      <td>1</td>\n",
       "    </tr>\n",
       "    <tr>\n",
       "      <th>14</th>\n",
       "      <td>Nature's Lullabies First Year Sticker Calendar</td>\n",
       "      <td>Space for monthly photos, info and a lot of us...</td>\n",
       "      <td>5</td>\n",
       "      <td>Space for monthly photos info and a lot of use...</td>\n",
       "      <td>1</td>\n",
       "    </tr>\n",
       "    <tr>\n",
       "      <th>15</th>\n",
       "      <td>Nature's Lullabies First Year Sticker Calendar</td>\n",
       "      <td>I bought this calender for myself for my secon...</td>\n",
       "      <td>4</td>\n",
       "      <td>I bought this calender for myself for my secon...</td>\n",
       "      <td>1</td>\n",
       "    </tr>\n",
       "    <tr>\n",
       "      <th>16</th>\n",
       "      <td>Nature's Lullabies First Year Sticker Calendar</td>\n",
       "      <td>I love this little calender, you can keep trac...</td>\n",
       "      <td>5</td>\n",
       "      <td>I love this little calender you can keep track...</td>\n",
       "      <td>1</td>\n",
       "    </tr>\n",
       "    <tr>\n",
       "      <th>17</th>\n",
       "      <td>Nature's Lullabies Second Year Sticker Calendar</td>\n",
       "      <td>This was the only calender I could find for th...</td>\n",
       "      <td>5</td>\n",
       "      <td>This was the only calender I could find for th...</td>\n",
       "      <td>1</td>\n",
       "    </tr>\n",
       "    <tr>\n",
       "      <th>18</th>\n",
       "      <td>Nature's Lullabies Second Year Sticker Calendar</td>\n",
       "      <td>I completed a calendar for my son's first year...</td>\n",
       "      <td>4</td>\n",
       "      <td>I completed a calendar for my sons first year ...</td>\n",
       "      <td>1</td>\n",
       "    </tr>\n",
       "    <tr>\n",
       "      <th>19</th>\n",
       "      <td>Nature's Lullabies Second Year Sticker Calendar</td>\n",
       "      <td>We wanted to get something to keep track of ou...</td>\n",
       "      <td>5</td>\n",
       "      <td>We wanted to get something to keep track of ou...</td>\n",
       "      <td>1</td>\n",
       "    </tr>\n",
       "    <tr>\n",
       "      <th>20</th>\n",
       "      <td>Nature's Lullabies Second Year Sticker Calendar</td>\n",
       "      <td>I had a hard time finding a second year calend...</td>\n",
       "      <td>5</td>\n",
       "      <td>I had a hard time finding a second year calend...</td>\n",
       "      <td>1</td>\n",
       "    </tr>\n",
       "    <tr>\n",
       "      <th>21</th>\n",
       "      <td>Nature's Lullabies Second Year Sticker Calendar</td>\n",
       "      <td>I only purchased a second-year calendar for my...</td>\n",
       "      <td>2</td>\n",
       "      <td>I only purchased a secondyear calendar for my ...</td>\n",
       "      <td>-1</td>\n",
       "    </tr>\n",
       "    <tr>\n",
       "      <th>22</th>\n",
       "      <td>Nature's Lullabies Second Year Sticker Calendar</td>\n",
       "      <td>I LOVE this calendar for recording events of m...</td>\n",
       "      <td>5</td>\n",
       "      <td>I LOVE this calendar for recording events of m...</td>\n",
       "      <td>1</td>\n",
       "    </tr>\n",
       "    <tr>\n",
       "      <th>24</th>\n",
       "      <td>Nature's Lullabies Second Year Sticker Calendar</td>\n",
       "      <td>Wife loves this calender. Comes with a lot of ...</td>\n",
       "      <td>5</td>\n",
       "      <td>Wife loves this calender Comes with a lot of s...</td>\n",
       "      <td>1</td>\n",
       "    </tr>\n",
       "    <tr>\n",
       "      <th>25</th>\n",
       "      <td>Nature's Lullabies Second Year Sticker Calendar</td>\n",
       "      <td>My daughter had her 1st baby over a year ago. ...</td>\n",
       "      <td>5</td>\n",
       "      <td>My daughter had her 1st baby over a year ago S...</td>\n",
       "      <td>1</td>\n",
       "    </tr>\n",
       "    <tr>\n",
       "      <th>26</th>\n",
       "      <td>Baby's First Journal - Green</td>\n",
       "      <td>Extremely useful! As a new mom, tired and inex...</td>\n",
       "      <td>5</td>\n",
       "      <td>Extremely useful As a new mom tired and inexpe...</td>\n",
       "      <td>1</td>\n",
       "    </tr>\n",
       "    <tr>\n",
       "      <th>28</th>\n",
       "      <td>Lamaze Peekaboo, I Love You</td>\n",
       "      <td>One of baby's first and favorite books, and it...</td>\n",
       "      <td>4</td>\n",
       "      <td>One of babys first and favorite books and it i...</td>\n",
       "      <td>1</td>\n",
       "    </tr>\n",
       "    <tr>\n",
       "      <th>29</th>\n",
       "      <td>Lamaze Peekaboo, I Love You</td>\n",
       "      <td>I like how the book has a hook to attach it to...</td>\n",
       "      <td>5</td>\n",
       "      <td>I like how the book has a hook to attach it to...</td>\n",
       "      <td>1</td>\n",
       "    </tr>\n",
       "    <tr>\n",
       "      <th>30</th>\n",
       "      <td>Lamaze Peekaboo, I Love You</td>\n",
       "      <td>Beautiful little book.  A great little short s...</td>\n",
       "      <td>5</td>\n",
       "      <td>Beautiful little book  A great little short st...</td>\n",
       "      <td>1</td>\n",
       "    </tr>\n",
       "    <tr>\n",
       "      <th>31</th>\n",
       "      <td>Lamaze Peekaboo, I Love You</td>\n",
       "      <td>This book is so worth the money. It says 9+ mo...</td>\n",
       "      <td>5</td>\n",
       "      <td>This book is so worth the money It says 9 mont...</td>\n",
       "      <td>1</td>\n",
       "    </tr>\n",
       "    <tr>\n",
       "      <th>32</th>\n",
       "      <td>Lamaze Peekaboo, I Love You</td>\n",
       "      <td>we just got this book for our one-year-old and...</td>\n",
       "      <td>5</td>\n",
       "      <td>we just got this book for our oneyearold and s...</td>\n",
       "      <td>1</td>\n",
       "    </tr>\n",
       "    <tr>\n",
       "      <th>33</th>\n",
       "      <td>Lamaze Peekaboo, I Love You</td>\n",
       "      <td>The book is colorful and is perfect for 6month...</td>\n",
       "      <td>4</td>\n",
       "      <td>The book is colorful and is perfect for 6month...</td>\n",
       "      <td>1</td>\n",
       "    </tr>\n",
       "    <tr>\n",
       "      <th>35</th>\n",
       "      <td>Lamaze Peekaboo, I Love You</td>\n",
       "      <td>What a great book for babies!  I'd been lookin...</td>\n",
       "      <td>5</td>\n",
       "      <td>What a great book for babies  Id been looking ...</td>\n",
       "      <td>1</td>\n",
       "    </tr>\n",
       "    <tr>\n",
       "      <th>36</th>\n",
       "      <td>Lamaze Peekaboo, I Love You</td>\n",
       "      <td>My son loved this book as an infant.  It was p...</td>\n",
       "      <td>5</td>\n",
       "      <td>My son loved this book as an infant  It was pe...</td>\n",
       "      <td>1</td>\n",
       "    </tr>\n",
       "    <tr>\n",
       "      <th>37</th>\n",
       "      <td>Lamaze Peekaboo, I Love You</td>\n",
       "      <td>Our baby loves this book &amp; has loved it for a ...</td>\n",
       "      <td>5</td>\n",
       "      <td>Our baby loves this book  has loved it for a w...</td>\n",
       "      <td>1</td>\n",
       "    </tr>\n",
       "    <tr>\n",
       "      <th>38</th>\n",
       "      <td>SoftPlay Twinkle Twinkle Elmo A Bedtime Book</td>\n",
       "      <td></td>\n",
       "      <td>5</td>\n",
       "      <td></td>\n",
       "      <td>1</td>\n",
       "    </tr>\n",
       "    <tr>\n",
       "      <th>39</th>\n",
       "      <td>SoftPlay Twinkle Twinkle Elmo A Bedtime Book</td>\n",
       "      <td>My son likes brushing elmo's teeth. Almost too...</td>\n",
       "      <td>5</td>\n",
       "      <td>My son likes brushing elmos teeth Almost too n...</td>\n",
       "      <td>1</td>\n",
       "    </tr>\n",
       "    <tr>\n",
       "      <th>40</th>\n",
       "      <td>SoftPlay Twinkle Twinkle Elmo A Bedtime Book</td>\n",
       "      <td>This was a birthday present for my 2 year old ...</td>\n",
       "      <td>5</td>\n",
       "      <td>This was a birthday present for my 2 year old ...</td>\n",
       "      <td>1</td>\n",
       "    </tr>\n",
       "    <tr>\n",
       "      <th>41</th>\n",
       "      <td>SoftPlay Giggle Jiggle Funbook, Happy Bear</td>\n",
       "      <td>This bear is absolutely adorable and I would g...</td>\n",
       "      <td>2</td>\n",
       "      <td>This bear is absolutely adorable and I would g...</td>\n",
       "      <td>-1</td>\n",
       "    </tr>\n",
       "    <tr>\n",
       "      <th>42</th>\n",
       "      <td>SoftPlay Peek-A-Boo Where's Elmo A Children's ...</td>\n",
       "      <td>My baby absolutely loves Elmo and so this book...</td>\n",
       "      <td>5</td>\n",
       "      <td>My baby absolutely loves Elmo and so this book...</td>\n",
       "      <td>1</td>\n",
       "    </tr>\n",
       "    <tr>\n",
       "      <th>43</th>\n",
       "      <td>SoftPlay Peek-A-Boo Where's Elmo A Children's ...</td>\n",
       "      <td>I bought two for recent baby showers!  The boo...</td>\n",
       "      <td>5</td>\n",
       "      <td>I bought two for recent baby showers  The book...</td>\n",
       "      <td>1</td>\n",
       "    </tr>\n",
       "    <tr>\n",
       "      <th>44</th>\n",
       "      <td>SoftPlay Peek-A-Boo Where's Elmo A Children's ...</td>\n",
       "      <td>We wanted to get another book like the Big Bir...</td>\n",
       "      <td>4</td>\n",
       "      <td>We wanted to get another book like the Big Bir...</td>\n",
       "      <td>1</td>\n",
       "    </tr>\n",
       "  </tbody>\n",
       "</table>\n",
       "</div>"
      ],
      "text/plain": [
       "                                                 name  \\\n",
       "1                               Planetwise Wipe Pouch   \n",
       "2                 Annas Dream Full Quilt with 2 Shams   \n",
       "3   Stop Pacifier Sucking without tears with Thumb...   \n",
       "4   Stop Pacifier Sucking without tears with Thumb...   \n",
       "5   Stop Pacifier Sucking without tears with Thumb...   \n",
       "6             A Tale of Baby's Days with Peter Rabbit   \n",
       "7   Baby Tracker&reg; - Daily Childcare Journal, S...   \n",
       "8   Baby Tracker&reg; - Daily Childcare Journal, S...   \n",
       "9   Baby Tracker&reg; - Daily Childcare Journal, S...   \n",
       "10  Baby Tracker&reg; - Daily Childcare Journal, S...   \n",
       "11  Baby Tracker&reg; - Daily Childcare Journal, S...   \n",
       "12  Baby Tracker&reg; - Daily Childcare Journal, S...   \n",
       "14     Nature's Lullabies First Year Sticker Calendar   \n",
       "15     Nature's Lullabies First Year Sticker Calendar   \n",
       "16     Nature's Lullabies First Year Sticker Calendar   \n",
       "17    Nature's Lullabies Second Year Sticker Calendar   \n",
       "18    Nature's Lullabies Second Year Sticker Calendar   \n",
       "19    Nature's Lullabies Second Year Sticker Calendar   \n",
       "20    Nature's Lullabies Second Year Sticker Calendar   \n",
       "21    Nature's Lullabies Second Year Sticker Calendar   \n",
       "22    Nature's Lullabies Second Year Sticker Calendar   \n",
       "24    Nature's Lullabies Second Year Sticker Calendar   \n",
       "25    Nature's Lullabies Second Year Sticker Calendar   \n",
       "26                       Baby's First Journal - Green   \n",
       "28                        Lamaze Peekaboo, I Love You   \n",
       "29                        Lamaze Peekaboo, I Love You   \n",
       "30                        Lamaze Peekaboo, I Love You   \n",
       "31                        Lamaze Peekaboo, I Love You   \n",
       "32                        Lamaze Peekaboo, I Love You   \n",
       "33                        Lamaze Peekaboo, I Love You   \n",
       "35                        Lamaze Peekaboo, I Love You   \n",
       "36                        Lamaze Peekaboo, I Love You   \n",
       "37                        Lamaze Peekaboo, I Love You   \n",
       "38       SoftPlay Twinkle Twinkle Elmo A Bedtime Book   \n",
       "39       SoftPlay Twinkle Twinkle Elmo A Bedtime Book   \n",
       "40       SoftPlay Twinkle Twinkle Elmo A Bedtime Book   \n",
       "41         SoftPlay Giggle Jiggle Funbook, Happy Bear   \n",
       "42  SoftPlay Peek-A-Boo Where's Elmo A Children's ...   \n",
       "43  SoftPlay Peek-A-Boo Where's Elmo A Children's ...   \n",
       "44  SoftPlay Peek-A-Boo Where's Elmo A Children's ...   \n",
       "\n",
       "                                               review  rating  \\\n",
       "1   it came early and was not disappointed. i love...       5   \n",
       "2   Very soft and comfortable and warmer than it l...       5   \n",
       "3   This is a product well worth the purchase.  I ...       5   \n",
       "4   All of my kids have cried non-stop when I trie...       5   \n",
       "5   When the Binky Fairy came to our house, we did...       5   \n",
       "6   Lovely book, it's bound tightly so you may not...       4   \n",
       "7   Perfect for new parents. We were able to keep ...       5   \n",
       "8   A friend of mine pinned this product on Pinter...       5   \n",
       "9   This has been an easy way for my nanny to reco...       4   \n",
       "10  I love this journal and our nanny uses it ever...       4   \n",
       "11  This book is perfect!  I'm a first time new mo...       5   \n",
       "12  I originally just gave the nanny a pad of pape...       4   \n",
       "14  Space for monthly photos, info and a lot of us...       5   \n",
       "15  I bought this calender for myself for my secon...       4   \n",
       "16  I love this little calender, you can keep trac...       5   \n",
       "17  This was the only calender I could find for th...       5   \n",
       "18  I completed a calendar for my son's first year...       4   \n",
       "19  We wanted to get something to keep track of ou...       5   \n",
       "20  I had a hard time finding a second year calend...       5   \n",
       "21  I only purchased a second-year calendar for my...       2   \n",
       "22  I LOVE this calendar for recording events of m...       5   \n",
       "24  Wife loves this calender. Comes with a lot of ...       5   \n",
       "25  My daughter had her 1st baby over a year ago. ...       5   \n",
       "26  Extremely useful! As a new mom, tired and inex...       5   \n",
       "28  One of baby's first and favorite books, and it...       4   \n",
       "29  I like how the book has a hook to attach it to...       5   \n",
       "30  Beautiful little book.  A great little short s...       5   \n",
       "31  This book is so worth the money. It says 9+ mo...       5   \n",
       "32  we just got this book for our one-year-old and...       5   \n",
       "33  The book is colorful and is perfect for 6month...       4   \n",
       "35  What a great book for babies!  I'd been lookin...       5   \n",
       "36  My son loved this book as an infant.  It was p...       5   \n",
       "37  Our baby loves this book & has loved it for a ...       5   \n",
       "38                                                          5   \n",
       "39  My son likes brushing elmo's teeth. Almost too...       5   \n",
       "40  This was a birthday present for my 2 year old ...       5   \n",
       "41  This bear is absolutely adorable and I would g...       2   \n",
       "42  My baby absolutely loves Elmo and so this book...       5   \n",
       "43  I bought two for recent baby showers!  The boo...       5   \n",
       "44  We wanted to get another book like the Big Bir...       4   \n",
       "\n",
       "                                         review_clean  sentiment  \n",
       "1   it came early and was not disappointed i love ...          1  \n",
       "2   Very soft and comfortable and warmer than it l...          1  \n",
       "3   This is a product well worth the purchase  I h...          1  \n",
       "4   All of my kids have cried nonstop when I tried...          1  \n",
       "5   When the Binky Fairy came to our house we didn...          1  \n",
       "6   Lovely book its bound tightly so you may not b...          1  \n",
       "7   Perfect for new parents We were able to keep t...          1  \n",
       "8   A friend of mine pinned this product on Pinter...          1  \n",
       "9   This has been an easy way for my nanny to reco...          1  \n",
       "10  I love this journal and our nanny uses it ever...          1  \n",
       "11  This book is perfect  Im a first time new mom ...          1  \n",
       "12  I originally just gave the nanny a pad of pape...          1  \n",
       "14  Space for monthly photos info and a lot of use...          1  \n",
       "15  I bought this calender for myself for my secon...          1  \n",
       "16  I love this little calender you can keep track...          1  \n",
       "17  This was the only calender I could find for th...          1  \n",
       "18  I completed a calendar for my sons first year ...          1  \n",
       "19  We wanted to get something to keep track of ou...          1  \n",
       "20  I had a hard time finding a second year calend...          1  \n",
       "21  I only purchased a secondyear calendar for my ...         -1  \n",
       "22  I LOVE this calendar for recording events of m...          1  \n",
       "24  Wife loves this calender Comes with a lot of s...          1  \n",
       "25  My daughter had her 1st baby over a year ago S...          1  \n",
       "26  Extremely useful As a new mom tired and inexpe...          1  \n",
       "28  One of babys first and favorite books and it i...          1  \n",
       "29  I like how the book has a hook to attach it to...          1  \n",
       "30  Beautiful little book  A great little short st...          1  \n",
       "31  This book is so worth the money It says 9 mont...          1  \n",
       "32  we just got this book for our oneyearold and s...          1  \n",
       "33  The book is colorful and is perfect for 6month...          1  \n",
       "35  What a great book for babies  Id been looking ...          1  \n",
       "36  My son loved this book as an infant  It was pe...          1  \n",
       "37  Our baby loves this book  has loved it for a w...          1  \n",
       "38                                                             1  \n",
       "39  My son likes brushing elmos teeth Almost too n...          1  \n",
       "40  This was a birthday present for my 2 year old ...          1  \n",
       "41  This bear is absolutely adorable and I would g...         -1  \n",
       "42  My baby absolutely loves Elmo and so this book...          1  \n",
       "43  I bought two for recent baby showers  The book...          1  \n",
       "44  We wanted to get another book like the Big Bir...          1  "
      ]
     },
     "execution_count": 65,
     "metadata": {},
     "output_type": "execute_result"
    }
   ],
   "source": [
    "products['sentiment'] = products['rating'].apply(lambda rating : +1 if rating > 3 else -1)\n",
    "products.head(40)"
   ]
  },
  {
   "cell_type": "markdown",
   "metadata": {},
   "source": [
    "Now, we can see that the dataset contains an extra column called **sentiment** which is either positive (+1) or negative (-1)."
   ]
  },
  {
   "cell_type": "markdown",
   "metadata": {},
   "source": [
    "## Split data into training and test sets"
   ]
  },
  {
   "cell_type": "markdown",
   "metadata": {},
   "source": [
    "Let's perform a train/test split with 80% of the data in the training set and 20% of the data in the test set. We use `seed=1` so that everyone gets the same result."
   ]
  },
  {
   "cell_type": "code",
   "execution_count": 28,
   "metadata": {
    "collapsed": false
   },
   "outputs": [
    {
     "name": "stdout",
     "output_type": "stream",
     "text": [
      "121232\n",
      "30272\n"
     ]
    }
   ],
   "source": [
    "testIndexes = pd.read_json('module-2-assignment-test-idx.json')\n",
    "test_data = products[products.index.to_series().isin(testIndexes[0])]\n",
    "\n",
    "\n",
    "trainIndexes = pd.read_json('module-2-assignment-train-idx.json')\n",
    "train_data = products[products.index.to_series().isin(trainIndexes[0])]\n",
    "\n",
    "print (len(train_data))\n",
    "print (len(test_data))"
   ]
  },
  {
   "cell_type": "code",
   "execution_count": 29,
   "metadata": {
    "collapsed": false
   },
   "outputs": [
    {
     "data": {
      "text/html": [
       "<div>\n",
       "<table border=\"1\" class=\"dataframe\">\n",
       "  <thead>\n",
       "    <tr style=\"text-align: right;\">\n",
       "      <th></th>\n",
       "      <th>name</th>\n",
       "      <th>review</th>\n",
       "      <th>rating</th>\n",
       "      <th>review_clean</th>\n",
       "      <th>sentiment</th>\n",
       "    </tr>\n",
       "  </thead>\n",
       "  <tbody>\n",
       "    <tr>\n",
       "      <th>8</th>\n",
       "      <td>Baby Tracker&amp;reg; - Daily Childcare Journal, S...</td>\n",
       "      <td>A friend of mine pinned this product on Pinter...</td>\n",
       "      <td>5</td>\n",
       "      <td>A friend of mine pinned this product on Pinter...</td>\n",
       "      <td>1</td>\n",
       "    </tr>\n",
       "    <tr>\n",
       "      <th>9</th>\n",
       "      <td>Baby Tracker&amp;reg; - Daily Childcare Journal, S...</td>\n",
       "      <td>This has been an easy way for my nanny to reco...</td>\n",
       "      <td>4</td>\n",
       "      <td>This has been an easy way for my nanny to reco...</td>\n",
       "      <td>1</td>\n",
       "    </tr>\n",
       "    <tr>\n",
       "      <th>14</th>\n",
       "      <td>Nature's Lullabies First Year Sticker Calendar</td>\n",
       "      <td>Space for monthly photos, info and a lot of us...</td>\n",
       "      <td>5</td>\n",
       "      <td>Space for monthly photos info and a lot of use...</td>\n",
       "      <td>1</td>\n",
       "    </tr>\n",
       "    <tr>\n",
       "      <th>18</th>\n",
       "      <td>Nature's Lullabies Second Year Sticker Calendar</td>\n",
       "      <td>I completed a calendar for my son's first year...</td>\n",
       "      <td>4</td>\n",
       "      <td>I completed a calendar for my sons first year ...</td>\n",
       "      <td>1</td>\n",
       "    </tr>\n",
       "    <tr>\n",
       "      <th>24</th>\n",
       "      <td>Nature's Lullabies Second Year Sticker Calendar</td>\n",
       "      <td>Wife loves this calender. Comes with a lot of ...</td>\n",
       "      <td>5</td>\n",
       "      <td>Wife loves this calender Comes with a lot of s...</td>\n",
       "      <td>1</td>\n",
       "    </tr>\n",
       "  </tbody>\n",
       "</table>\n",
       "</div>"
      ],
      "text/plain": [
       "                                                 name  \\\n",
       "8   Baby Tracker&reg; - Daily Childcare Journal, S...   \n",
       "9   Baby Tracker&reg; - Daily Childcare Journal, S...   \n",
       "14     Nature's Lullabies First Year Sticker Calendar   \n",
       "18    Nature's Lullabies Second Year Sticker Calendar   \n",
       "24    Nature's Lullabies Second Year Sticker Calendar   \n",
       "\n",
       "                                               review  rating  \\\n",
       "8   A friend of mine pinned this product on Pinter...       5   \n",
       "9   This has been an easy way for my nanny to reco...       4   \n",
       "14  Space for monthly photos, info and a lot of us...       5   \n",
       "18  I completed a calendar for my son's first year...       4   \n",
       "24  Wife loves this calender. Comes with a lot of ...       5   \n",
       "\n",
       "                                         review_clean  sentiment  \n",
       "8   A friend of mine pinned this product on Pinter...          1  \n",
       "9   This has been an easy way for my nanny to reco...          1  \n",
       "14  Space for monthly photos info and a lot of use...          1  \n",
       "18  I completed a calendar for my sons first year ...          1  \n",
       "24  Wife loves this calender Comes with a lot of s...          1  "
      ]
     },
     "execution_count": 29,
     "metadata": {},
     "output_type": "execute_result"
    }
   ],
   "source": [
    "test_data.head()"
   ]
  },
  {
   "cell_type": "code",
   "execution_count": 30,
   "metadata": {
    "collapsed": false,
    "scrolled": true
   },
   "outputs": [
    {
     "data": {
      "text/html": [
       "<div>\n",
       "<table border=\"1\" class=\"dataframe\">\n",
       "  <thead>\n",
       "    <tr style=\"text-align: right;\">\n",
       "      <th></th>\n",
       "      <th>name</th>\n",
       "      <th>review</th>\n",
       "      <th>rating</th>\n",
       "      <th>review_clean</th>\n",
       "      <th>sentiment</th>\n",
       "    </tr>\n",
       "  </thead>\n",
       "  <tbody>\n",
       "    <tr>\n",
       "      <th>1</th>\n",
       "      <td>Planetwise Wipe Pouch</td>\n",
       "      <td>it came early and was not disappointed. i love...</td>\n",
       "      <td>5</td>\n",
       "      <td>it came early and was not disappointed i love ...</td>\n",
       "      <td>1</td>\n",
       "    </tr>\n",
       "    <tr>\n",
       "      <th>2</th>\n",
       "      <td>Annas Dream Full Quilt with 2 Shams</td>\n",
       "      <td>Very soft and comfortable and warmer than it l...</td>\n",
       "      <td>5</td>\n",
       "      <td>Very soft and comfortable and warmer than it l...</td>\n",
       "      <td>1</td>\n",
       "    </tr>\n",
       "    <tr>\n",
       "      <th>3</th>\n",
       "      <td>Stop Pacifier Sucking without tears with Thumb...</td>\n",
       "      <td>This is a product well worth the purchase.  I ...</td>\n",
       "      <td>5</td>\n",
       "      <td>This is a product well worth the purchase  I h...</td>\n",
       "      <td>1</td>\n",
       "    </tr>\n",
       "    <tr>\n",
       "      <th>4</th>\n",
       "      <td>Stop Pacifier Sucking without tears with Thumb...</td>\n",
       "      <td>All of my kids have cried non-stop when I trie...</td>\n",
       "      <td>5</td>\n",
       "      <td>All of my kids have cried nonstop when I tried...</td>\n",
       "      <td>1</td>\n",
       "    </tr>\n",
       "    <tr>\n",
       "      <th>5</th>\n",
       "      <td>Stop Pacifier Sucking without tears with Thumb...</td>\n",
       "      <td>When the Binky Fairy came to our house, we did...</td>\n",
       "      <td>5</td>\n",
       "      <td>When the Binky Fairy came to our house we didn...</td>\n",
       "      <td>1</td>\n",
       "    </tr>\n",
       "  </tbody>\n",
       "</table>\n",
       "</div>"
      ],
      "text/plain": [
       "                                                name  \\\n",
       "1                              Planetwise Wipe Pouch   \n",
       "2                Annas Dream Full Quilt with 2 Shams   \n",
       "3  Stop Pacifier Sucking without tears with Thumb...   \n",
       "4  Stop Pacifier Sucking without tears with Thumb...   \n",
       "5  Stop Pacifier Sucking without tears with Thumb...   \n",
       "\n",
       "                                              review  rating  \\\n",
       "1  it came early and was not disappointed. i love...       5   \n",
       "2  Very soft and comfortable and warmer than it l...       5   \n",
       "3  This is a product well worth the purchase.  I ...       5   \n",
       "4  All of my kids have cried non-stop when I trie...       5   \n",
       "5  When the Binky Fairy came to our house, we did...       5   \n",
       "\n",
       "                                        review_clean  sentiment  \n",
       "1  it came early and was not disappointed i love ...          1  \n",
       "2  Very soft and comfortable and warmer than it l...          1  \n",
       "3  This is a product well worth the purchase  I h...          1  \n",
       "4  All of my kids have cried nonstop when I tried...          1  \n",
       "5  When the Binky Fairy came to our house we didn...          1  "
      ]
     },
     "execution_count": 30,
     "metadata": {},
     "output_type": "execute_result"
    }
   ],
   "source": [
    "train_data.head()"
   ]
  },
  {
   "cell_type": "code",
   "execution_count": 31,
   "metadata": {
    "collapsed": true
   },
   "outputs": [],
   "source": [
    "from sklearn.feature_extraction.text import CountVectorizer\n",
    "\n",
    "vectorizer = CountVectorizer(token_pattern=r'\\b\\w+\\b')\n",
    "     # Use this token pattern to keep single-letter words\n",
    "# First, learn vocabulary from the training data and assign columns to words\n",
    "# Then convert the training data into a sparse matrix\n",
    "train_matrix = vectorizer.fit_transform(train_data['review_clean'])\n",
    "# Second, convert the test data into a sparse matrix, using the same word-column mapping\n",
    "test_matrix = vectorizer.transform(test_data['review_clean'])"
   ]
  },
  {
   "cell_type": "markdown",
   "metadata": {},
   "source": [
    "# Train a sentiment classifier with logistic regression\n",
    "\n",
    "We will now use logistic regression to create a sentiment classifier on the training data. This model will use the column **word_count** as a feature and the column **sentiment** as the target. We will use `validation_set=None` to obtain same results as everyone else.\n",
    "\n",
    "**Note:** This line may take 1-2 minutes."
   ]
  },
  {
   "cell_type": "code",
   "execution_count": 32,
   "metadata": {
    "collapsed": false
   },
   "outputs": [],
   "source": [
    "# instantiate a logistic regression model, and fit with X and y\n",
    "sentiment_model = LogisticRegression()\n",
    "fit = sentiment_model.fit(train_matrix, train_data[\"sentiment\"])\n",
    "\n",
    "# check the accuracy on the training set\n",
    "score = sentiment_model.score(train_matrix, train_data[\"sentiment\"])\n",
    "\n"
   ]
  },
  {
   "cell_type": "code",
   "execution_count": 33,
   "metadata": {
    "collapsed": false,
    "scrolled": true
   },
   "outputs": [
    {
     "data": {
      "text/plain": [
       "array([[ -3.96905723e-01,   1.37283933e-02,   6.07597207e-03, ...,\n",
       "         -1.76544327e-02,   3.96474628e-06,   9.86123686e-03]])"
      ]
     },
     "execution_count": 33,
     "metadata": {},
     "output_type": "execute_result"
    }
   ],
   "source": [
    "sentiment_model.coef_"
   ]
  },
  {
   "cell_type": "code",
   "execution_count": 34,
   "metadata": {
    "collapsed": false
   },
   "outputs": [
    {
     "name": "stdout",
     "output_type": "stream",
     "text": [
      "79871\n"
     ]
    },
    {
     "data": {
      "text/plain": [
       "(1, 113305)"
      ]
     },
     "execution_count": 34,
     "metadata": {},
     "output_type": "execute_result"
    }
   ],
   "source": [
    "coefsGreatherThanZero = sentiment_model.coef_[sentiment_model.coef_ >= 0]\n",
    "print(len(coefsGreatherThanZero))\n",
    "#coefs = np.array(filter(lambda x: x >0, sentiment_model.coef_))\n",
    "#coefs.shape\n",
    "#print (coefs)\n",
    "\n",
    "sentiment_model.coef_.shape"
   ]
  },
  {
   "cell_type": "markdown",
   "metadata": {},
   "source": [
    "**Aside**. You may get an warning to the effect of \"Terminated due to numerical difficulties --- this model may not be ideal\". It means that the quality metric (to be covered in Module 3) failed to improve in the last iteration of the run. The difficulty arises as the sentiment model puts too much weight on extremely rare words. A way to rectify this is to apply regularization, to be covered in Module 4. Regularization lessens the effect of extremely rare words. For the purpose of this assignment, however, please proceed with the model above."
   ]
  },
  {
   "cell_type": "markdown",
   "metadata": {},
   "source": [
    "Now that we have fitted the model, we can extract the weights (coefficients) as an SFrame as follows:"
   ]
  },
  {
   "cell_type": "code",
   "execution_count": 37,
   "metadata": {
    "collapsed": false
   },
   "outputs": [],
   "source": [
    "weights = sentiment_model.coef_"
   ]
  },
  {
   "cell_type": "markdown",
   "metadata": {},
   "source": [
    "There are a total of `121713` coefficients in the model. Recall from the lecture that positive weights $w_j$ correspond to weights that cause positive sentiment, while negative weights correspond to negative sentiment. \n",
    "\n",
    "Fill in the following block of code to calculate how many *weights* are positive ( >= 0). (**Hint**: The `'value'` column in SFrame *weights* must be positive ( >= 0))."
   ]
  },
  {
   "cell_type": "markdown",
   "metadata": {},
   "source": [
    "**Quiz question:** How many weights are >= 0?"
   ]
  },
  {
   "cell_type": "markdown",
   "metadata": {},
   "source": [
    "## Making predictions with logistic regression\n",
    "\n",
    "Now that a model is trained, we can make predictions on the **test data**. In this section, we will explore this in the context of 3 examples in the test dataset.  We refer to this set of 3 examples as the **sample_test_data**."
   ]
  },
  {
   "cell_type": "code",
   "execution_count": 38,
   "metadata": {
    "collapsed": false
   },
   "outputs": [
    {
     "name": "stdout",
     "output_type": "stream",
     "text": [
      "64     5\n",
      "82     5\n",
      "102    5\n",
      "Name: rating, dtype: int32\n"
     ]
    },
    {
     "data": {
      "text/html": [
       "<div>\n",
       "<table border=\"1\" class=\"dataframe\">\n",
       "  <thead>\n",
       "    <tr style=\"text-align: right;\">\n",
       "      <th></th>\n",
       "      <th>name</th>\n",
       "      <th>review</th>\n",
       "      <th>rating</th>\n",
       "      <th>review_clean</th>\n",
       "      <th>sentiment</th>\n",
       "    </tr>\n",
       "  </thead>\n",
       "  <tbody>\n",
       "    <tr>\n",
       "      <th>64</th>\n",
       "      <td>Our Baby Girl Memory Book</td>\n",
       "      <td>Really happy with this purchase. I was looking...</td>\n",
       "      <td>5</td>\n",
       "      <td>Really happy with this purchase I was looking ...</td>\n",
       "      <td>1</td>\n",
       "    </tr>\n",
       "    <tr>\n",
       "      <th>82</th>\n",
       "      <td>Cloth Diaper Pins Stainless Steel Traditional ...</td>\n",
       "      <td>It has been many years since we needed diaper ...</td>\n",
       "      <td>5</td>\n",
       "      <td>It has been many years since we needed diaper ...</td>\n",
       "      <td>1</td>\n",
       "    </tr>\n",
       "    <tr>\n",
       "      <th>102</th>\n",
       "      <td>Newborn Baby Tracker&amp;reg; - Round the Clock Ch...</td>\n",
       "      <td>Love it love it love it!!  Got my first baby t...</td>\n",
       "      <td>5</td>\n",
       "      <td>Love it love it love it  Got my first baby tra...</td>\n",
       "      <td>1</td>\n",
       "    </tr>\n",
       "  </tbody>\n",
       "</table>\n",
       "</div>"
      ],
      "text/plain": [
       "                                                  name  \\\n",
       "64                           Our Baby Girl Memory Book   \n",
       "82   Cloth Diaper Pins Stainless Steel Traditional ...   \n",
       "102  Newborn Baby Tracker&reg; - Round the Clock Ch...   \n",
       "\n",
       "                                                review  rating  \\\n",
       "64   Really happy with this purchase. I was looking...       5   \n",
       "82   It has been many years since we needed diaper ...       5   \n",
       "102  Love it love it love it!!  Got my first baby t...       5   \n",
       "\n",
       "                                          review_clean  sentiment  \n",
       "64   Really happy with this purchase I was looking ...          1  \n",
       "82   It has been many years since we needed diaper ...          1  \n",
       "102  Love it love it love it  Got my first baby tra...          1  "
      ]
     },
     "execution_count": 38,
     "metadata": {},
     "output_type": "execute_result"
    }
   ],
   "source": [
    "sample_test_data = test_data[10:13]\n",
    "print(sample_test_data['rating'])\n",
    "sample_test_data"
   ]
  },
  {
   "cell_type": "markdown",
   "metadata": {},
   "source": [
    "Let's dig deeper into the first row of the **sample_test_data**. Here's the full review:"
   ]
  },
  {
   "cell_type": "code",
   "execution_count": 39,
   "metadata": {
    "collapsed": false
   },
   "outputs": [
    {
     "data": {
      "text/plain": [
       "\"Really happy with this purchase. I was looking for an english baby book (I'm French and the daddy is Flammish) and this is the perfect one. Lot of info to fill in : family, firsts...and mini pockets to preserve hair, maternity bracelet...Really happy!\""
      ]
     },
     "execution_count": 39,
     "metadata": {},
     "output_type": "execute_result"
    }
   ],
   "source": [
    "sample_test_data.iloc[0][\"review\"]"
   ]
  },
  {
   "cell_type": "markdown",
   "metadata": {},
   "source": [
    "That review seems pretty positive.\n",
    "\n",
    "Now, let's see what the next row of the **sample_test_data** looks like. As we could guess from the sentiment (-1), the review is quite negative."
   ]
  },
  {
   "cell_type": "code",
   "execution_count": 40,
   "metadata": {
    "collapsed": false
   },
   "outputs": [
    {
     "data": {
      "text/plain": [
       "\"It has been many years since we needed diaper pins, but I do like to pin my socks together through the wash and have never lost one yet. I was using brass dressmaker pins but they tended to open up during the wash cycle. My wife suggested diaper pins and we tried them. Thery're working perfectly and staying together through the washing. Matter of fact they can get a little tricky to open, but of course that was the idea. Recommended to keep your socks &#34;friended up&#34;.\""
      ]
     },
     "execution_count": 40,
     "metadata": {},
     "output_type": "execute_result"
    }
   ],
   "source": [
    "sample_test_data.iloc[1]['review']"
   ]
  },
  {
   "cell_type": "markdown",
   "metadata": {},
   "source": [
    "We will now make a **class** prediction for the **sample_test_data**. The `sentiment_model` should predict **+1** if the sentiment is positive and **-1** if the sentiment is negative. Recall from the lecture that the **score** (sometimes called **margin**) for the logistic regression model  is defined as:\n",
    "\n",
    "$$\n",
    "\\mbox{score}_i = \\mathbf{w}^T h(\\mathbf{x}_i)\n",
    "$$ \n",
    "\n",
    "where $h(\\mathbf{x}_i)$ represents the features for example $i$.  We will write some code to obtain the **scores** using GraphLab Create. For each row, the **score** (or margin) is a number in the range **[-inf, inf]**."
   ]
  },
  {
   "cell_type": "code",
   "execution_count": 41,
   "metadata": {
    "collapsed": false
   },
   "outputs": [
    {
     "name": "stdout",
     "output_type": "stream",
     "text": [
      "[  9.62805184   7.67068453  10.69637887]\n"
     ]
    }
   ],
   "source": [
    "sample_test_matrix = vectorizer.transform(sample_test_data['review_clean'])\n",
    "scores = sentiment_model.decision_function(sample_test_matrix)\n",
    "print (scores)"
   ]
  },
  {
   "cell_type": "markdown",
   "metadata": {},
   "source": [
    "### Predicting sentiment\n",
    "\n",
    "These scores can be used to make class predictions as follows:\n",
    "\n",
    "$$\n",
    "\\hat{y} = \n",
    "\\left\\{\n",
    "\\begin{array}{ll}\n",
    "      +1 & \\mathbf{w}^T h(\\mathbf{x}_i) > 0 \\\\\n",
    "      -1 & \\mathbf{w}^T h(\\mathbf{x}_i) \\leq 0 \\\\\n",
    "\\end{array} \n",
    "\\right.\n",
    "$$\n",
    "\n",
    "Using scores, write code to calculate $\\hat{y}$, the class predictions:"
   ]
  },
  {
   "cell_type": "code",
   "execution_count": 1,
   "metadata": {
    "collapsed": false
   },
   "outputs": [
    {
     "ename": "NameError",
     "evalue": "name 'np' is not defined",
     "output_type": "error",
     "traceback": [
      "\u001b[1;31m---------------------------------------------------------------------------\u001b[0m",
      "\u001b[1;31mNameError\u001b[0m                                 Traceback (most recent call last)",
      "\u001b[1;32m<ipython-input-1-2bf2a0d68a2e>\u001b[0m in \u001b[0;36m<module>\u001b[1;34m()\u001b[0m\n\u001b[1;32m----> 1\u001b[1;33m \u001b[0mpred\u001b[0m \u001b[1;33m=\u001b[0m \u001b[0mnp\u001b[0m\u001b[1;33m.\u001b[0m\u001b[0mzeros\u001b[0m\u001b[1;33m(\u001b[0m\u001b[1;36m3\u001b[0m\u001b[1;33m)\u001b[0m\u001b[1;33m\u001b[0m\u001b[0m\n\u001b[0m\u001b[0;32m      2\u001b[0m \u001b[1;33m\u001b[0m\u001b[0m\n\u001b[0;32m      3\u001b[0m \u001b[1;32mdef\u001b[0m \u001b[0mmyPredict\u001b[0m\u001b[1;33m(\u001b[0m\u001b[0mx\u001b[0m\u001b[1;33m)\u001b[0m\u001b[1;33m:\u001b[0m\u001b[1;33m\u001b[0m\u001b[0m\n\u001b[0;32m      4\u001b[0m     \u001b[1;32mif\u001b[0m \u001b[0mx\u001b[0m \u001b[1;33m>\u001b[0m \u001b[1;36m0\u001b[0m\u001b[1;33m:\u001b[0m\u001b[1;33m\u001b[0m\u001b[0m\n\u001b[0;32m      5\u001b[0m         \u001b[1;32mreturn\u001b[0m \u001b[1;36m1\u001b[0m\u001b[1;33m\u001b[0m\u001b[0m\n",
      "\u001b[1;31mNameError\u001b[0m: name 'np' is not defined"
     ]
    }
   ],
   "source": [
    "pred = np.zeros(3)\n",
    "\n",
    "def myPredict(x):\n",
    "    if x > 0:\n",
    "        return 1\n",
    "    else: \n",
    "        return -1\n",
    "\n",
    "for i in  range(len(scores)):\n",
    "    pred[i] = myPredict(scores[i])\n",
    "\n",
    "print(pred)"
   ]
  },
  {
   "cell_type": "markdown",
   "metadata": {},
   "source": [
    "Run the following code to verify that the class predictions obtained by your calculations are the same as that obtained from GraphLab Create."
   ]
  },
  {
   "cell_type": "code",
   "execution_count": 43,
   "metadata": {
    "collapsed": false
   },
   "outputs": [
    {
     "name": "stdout",
     "output_type": "stream",
     "text": [
      "Class predictions according to GraphLab Create:\n",
      "[1 1 1]\n"
     ]
    }
   ],
   "source": [
    "print (\"Class predictions according to GraphLab Create:\" )\n",
    "print (sentiment_model.predict(sample_test_matrix))"
   ]
  },
  {
   "cell_type": "markdown",
   "metadata": {},
   "source": [
    "**Checkpoint**: Make sure your class predictions match with the one obtained from GraphLab Create.\n",
    "\n",
    "### Probability predictions\n",
    "\n",
    "Recall from the lectures that we can also calculate the probability predictions from the scores using:\n",
    "$$\n",
    "P(y_i = +1 | \\mathbf{x}_i,\\mathbf{w}) = \\frac{1}{1 + \\exp(-\\mathbf{w}^T h(\\mathbf{x}_i))}.\n",
    "$$\n",
    "\n",
    "Using the variable **scores** calculated previously, write code to calculate the probability that a sentiment is positive using the above formula. For each row, the probabilities should be a number in the range **[0, 1]**."
   ]
  },
  {
   "cell_type": "code",
   "execution_count": 44,
   "metadata": {
    "collapsed": false
   },
   "outputs": [
    {
     "name": "stdout",
     "output_type": "stream",
     "text": [
      "[ 0.99993415  0.99953392  0.99997737]\n"
     ]
    }
   ],
   "source": [
    "import math\n",
    "\n",
    "def sigmoid(x):\n",
    "  return 1 / (1 + math.exp(-x))\n",
    "\n",
    "\n",
    "predProbability = np.zeros(3)\n",
    "\n",
    "for i in  range(len(scores)):\n",
    "    predProbability[i] = sigmoid(scores[i])\n",
    "\n",
    "print(predProbability)\n",
    "    "
   ]
  },
  {
   "cell_type": "markdown",
   "metadata": {},
   "source": [
    "**Checkpoint**: Make sure your probability predictions match the ones obtained from GraphLab Create."
   ]
  },
  {
   "cell_type": "code",
   "execution_count": 45,
   "metadata": {
    "collapsed": false
   },
   "outputs": [
    {
     "name": "stdout",
     "output_type": "stream",
     "text": [
      "[[  6.58508846e-05   9.99934149e-01]\n",
      " [  4.66081187e-04   9.99533919e-01]\n",
      " [  2.26262122e-05   9.99977374e-01]]\n"
     ]
    }
   ],
   "source": [
    "print (sentiment_model.predict_proba(sample_test_matrix))"
   ]
  },
  {
   "cell_type": "markdown",
   "metadata": {},
   "source": [
    "** Quiz Question:** Of the three data points in **sample_test_data**, which one (first, second, or third) has the **lowest probability** of being classified as a positive review?"
   ]
  },
  {
   "cell_type": "markdown",
   "metadata": {},
   "source": [
    "# Find the most positive (and negative) review"
   ]
  },
  {
   "cell_type": "markdown",
   "metadata": {},
   "source": [
    "We now turn to examining the full test dataset, **test_data**, and use GraphLab Create to form predictions on all of the test data points for faster performance.\n",
    "\n",
    "Using the `sentiment_model`, find the 20 reviews in the entire **test_data** with the **highest probability** of being classified as a **positive review**. We refer to these as the \"most positive reviews.\"\n",
    "\n",
    "To calculate these top-20 reviews, use the following steps:\n",
    "1.  Make probability predictions on **test_data** using the `sentiment_model`. (**Hint:** When you call `.predict` to make predictions on the test data, use option `output_type='probability'` to output the probability rather than just the most likely class.)\n",
    "2.  Sort the data according to those predictions and pick the top 20. (**Hint:** You can use the `.topk` method on an SFrame to find the top k rows sorted according to the value of a specified column.)"
   ]
  },
  {
   "cell_type": "code",
   "execution_count": 74,
   "metadata": {
    "collapsed": false
   },
   "outputs": [
    {
     "name": "stdout",
     "output_type": "stream",
     "text": [
      "[18089 28678 24233 27583 14476  9203  3976 20997 29224 22437 29450 17848\n",
      " 26160 23415 19661 10504 25042  2575  8522 22751]\n"
     ]
    }
   ],
   "source": [
    "predictedProbabilities =  sentiment_model.predict_proba(test_matrix)\n",
    "indexes = predictedProbabilities[:,1].argsort()[::-1]\n",
    "print(indexes[0:20])\n"
   ]
  },
  {
   "cell_type": "code",
   "execution_count": 78,
   "metadata": {
    "collapsed": false
   },
   "outputs": [
    {
     "data": {
      "text/html": [
       "<div>\n",
       "<table border=\"1\" class=\"dataframe\">\n",
       "  <thead>\n",
       "    <tr style=\"text-align: right;\">\n",
       "      <th></th>\n",
       "      <th>name</th>\n",
       "      <th>review</th>\n",
       "      <th>rating</th>\n",
       "      <th>review_clean</th>\n",
       "      <th>sentiment</th>\n",
       "    </tr>\n",
       "  </thead>\n",
       "  <tbody>\n",
       "    <tr>\n",
       "      <th>100166</th>\n",
       "      <td>Infantino Wrap and Tie Baby Carrier, Black Blu...</td>\n",
       "      <td>I bought this carrier when my daughter was abo...</td>\n",
       "      <td>5</td>\n",
       "      <td>I bought this carrier when my daughter was abo...</td>\n",
       "      <td>1</td>\n",
       "    </tr>\n",
       "    <tr>\n",
       "      <th>158209</th>\n",
       "      <td>Ubbi Cloth Diaper Pail Liner</td>\n",
       "      <td>(updated 3.22.13) After extensive research, tr...</td>\n",
       "      <td>5</td>\n",
       "      <td>updated 32213 After extensive research trial a...</td>\n",
       "      <td>1</td>\n",
       "    </tr>\n",
       "    <tr>\n",
       "      <th>133651</th>\n",
       "      <td>Britax 2012 B-Agile Stroller, Red</td>\n",
       "      <td>[I got this stroller for my daughter prior to ...</td>\n",
       "      <td>4</td>\n",
       "      <td>I got this stroller for my daughter prior to t...</td>\n",
       "      <td>1</td>\n",
       "    </tr>\n",
       "    <tr>\n",
       "      <th>152013</th>\n",
       "      <td>UPPAbaby Vista Stroller, Denny</td>\n",
       "      <td>I researched strollers for months and months b...</td>\n",
       "      <td>5</td>\n",
       "      <td>I researched strollers for months and months b...</td>\n",
       "      <td>1</td>\n",
       "    </tr>\n",
       "    <tr>\n",
       "      <th>80155</th>\n",
       "      <td>Simple Wishes Hands-Free Breastpump Bra, Pink,...</td>\n",
       "      <td>I just tried this hands free breastpump bra, a...</td>\n",
       "      <td>5</td>\n",
       "      <td>I just tried this hands free breastpump bra an...</td>\n",
       "      <td>1</td>\n",
       "    </tr>\n",
       "    <tr>\n",
       "      <th>50735</th>\n",
       "      <td>Joovy Zoom 360 Swivel Wheel Jogging Stroller, ...</td>\n",
       "      <td>The joovy zoom 360 was the perfect solution fo...</td>\n",
       "      <td>5</td>\n",
       "      <td>The joovy zoom 360 was the perfect solution fo...</td>\n",
       "      <td>1</td>\n",
       "    </tr>\n",
       "    <tr>\n",
       "      <th>21557</th>\n",
       "      <td>Joovy Caboose Stand On Tandem Stroller, Black</td>\n",
       "      <td>Ok, I read all the reviews already posted here...</td>\n",
       "      <td>5</td>\n",
       "      <td>Ok I read all the reviews already posted here ...</td>\n",
       "      <td>1</td>\n",
       "    </tr>\n",
       "    <tr>\n",
       "      <th>116072</th>\n",
       "      <td>Joovy Scooter Single Stroller Greenie</td>\n",
       "      <td>***I've posted an UPDATE at the end***First, l...</td>\n",
       "      <td>5</td>\n",
       "      <td>Ive posted an UPDATE at the endFirst let me st...</td>\n",
       "      <td>1</td>\n",
       "    </tr>\n",
       "    <tr>\n",
       "      <th>161127</th>\n",
       "      <td>Safety 1st Alpha Omega Elite Convertible 3-in-...</td>\n",
       "      <td>My dad just bought this car seat for me/my son...</td>\n",
       "      <td>5</td>\n",
       "      <td>My dad just bought this car seat for memy son ...</td>\n",
       "      <td>1</td>\n",
       "    </tr>\n",
       "    <tr>\n",
       "      <th>123632</th>\n",
       "      <td>Zooper 2011 Waltz Standard Stroller, Flax Brown</td>\n",
       "      <td>I did a TON of research before I purchased thi...</td>\n",
       "      <td>5</td>\n",
       "      <td>I did a TON of research before I purchased thi...</td>\n",
       "      <td>1</td>\n",
       "    </tr>\n",
       "    <tr>\n",
       "      <th>162354</th>\n",
       "      <td>HALO SleepSack SwaddleChange Diaper Pad Covers...</td>\n",
       "      <td>I love having a new baby in the house, and eve...</td>\n",
       "      <td>5</td>\n",
       "      <td>I love having a new baby in the house and even...</td>\n",
       "      <td>1</td>\n",
       "    </tr>\n",
       "    <tr>\n",
       "      <th>98989</th>\n",
       "      <td>Jeep Overland Limited Jogging Stroller with Fr...</td>\n",
       "      <td>OK first off - I want to say that I did a LOT ...</td>\n",
       "      <td>5</td>\n",
       "      <td>OK first off  I want to say that I did a LOT o...</td>\n",
       "      <td>1</td>\n",
       "    </tr>\n",
       "    <tr>\n",
       "      <th>144112</th>\n",
       "      <td>GroVia Hybrid Hook/Loop Shell Diaper, Surf, On...</td>\n",
       "      <td>Background- I've been using Grovia diapers for...</td>\n",
       "      <td>4</td>\n",
       "      <td>Background Ive been using Grovia diapers for f...</td>\n",
       "      <td>1</td>\n",
       "    </tr>\n",
       "    <tr>\n",
       "      <th>129212</th>\n",
       "      <td>Baby Jogger 2011 City Select Stroller in Ameth...</td>\n",
       "      <td>I have the Baby Jogger City Select with Second...</td>\n",
       "      <td>5</td>\n",
       "      <td>I have the Baby Jogger City Select with Second...</td>\n",
       "      <td>1</td>\n",
       "    </tr>\n",
       "    <tr>\n",
       "      <th>108943</th>\n",
       "      <td>Britax B-Ready Stroller, Black</td>\n",
       "      <td>Some differences with Uppababy Vs. Britax B-Re...</td>\n",
       "      <td>4</td>\n",
       "      <td>Some differences with Uppababy Vs Britax BRead...</td>\n",
       "      <td>1</td>\n",
       "    </tr>\n",
       "    <tr>\n",
       "      <th>58044</th>\n",
       "      <td>Graco TurboBooster Car Seat  Hearts Delight</td>\n",
       "      <td>My 3  year old was ready for a \"big girl car s...</td>\n",
       "      <td>5</td>\n",
       "      <td>My 3  year old was ready for a big girl car se...</td>\n",
       "      <td>1</td>\n",
       "    </tr>\n",
       "    <tr>\n",
       "      <th>138096</th>\n",
       "      <td>Graco Trekko Classic Connect Stroller, Metropolis</td>\n",
       "      <td>When I found out that I was expecting, I began...</td>\n",
       "      <td>4</td>\n",
       "      <td>When I found out that I was expecting I began ...</td>\n",
       "      <td>1</td>\n",
       "    </tr>\n",
       "    <tr>\n",
       "      <th>14008</th>\n",
       "      <td>Stork Craft Beatrice Combo Tower Chest, White</td>\n",
       "      <td>I bought the tower despite the bad reviews and...</td>\n",
       "      <td>5</td>\n",
       "      <td>I bought the tower despite the bad reviews and...</td>\n",
       "      <td>1</td>\n",
       "    </tr>\n",
       "    <tr>\n",
       "      <th>46975</th>\n",
       "      <td></td>\n",
       "      <td>**UPDATE**I got this play yard when my son was...</td>\n",
       "      <td>5</td>\n",
       "      <td>UPDATEI got this play yard when my son was 6 m...</td>\n",
       "      <td>1</td>\n",
       "    </tr>\n",
       "    <tr>\n",
       "      <th>125408</th>\n",
       "      <td>UPPAbaby G-Luxe Stroller, Jake/Black</td>\n",
       "      <td>UPDATE: 2.5 years in and we still love it.  We...</td>\n",
       "      <td>5</td>\n",
       "      <td>UPDATE 25 years in and we still love it  We ha...</td>\n",
       "      <td>1</td>\n",
       "    </tr>\n",
       "  </tbody>\n",
       "</table>\n",
       "</div>"
      ],
      "text/plain": [
       "                                                     name  \\\n",
       "100166  Infantino Wrap and Tie Baby Carrier, Black Blu...   \n",
       "158209                       Ubbi Cloth Diaper Pail Liner   \n",
       "133651                  Britax 2012 B-Agile Stroller, Red   \n",
       "152013                     UPPAbaby Vista Stroller, Denny   \n",
       "80155   Simple Wishes Hands-Free Breastpump Bra, Pink,...   \n",
       "50735   Joovy Zoom 360 Swivel Wheel Jogging Stroller, ...   \n",
       "21557       Joovy Caboose Stand On Tandem Stroller, Black   \n",
       "116072              Joovy Scooter Single Stroller Greenie   \n",
       "161127  Safety 1st Alpha Omega Elite Convertible 3-in-...   \n",
       "123632    Zooper 2011 Waltz Standard Stroller, Flax Brown   \n",
       "162354  HALO SleepSack SwaddleChange Diaper Pad Covers...   \n",
       "98989   Jeep Overland Limited Jogging Stroller with Fr...   \n",
       "144112  GroVia Hybrid Hook/Loop Shell Diaper, Surf, On...   \n",
       "129212  Baby Jogger 2011 City Select Stroller in Ameth...   \n",
       "108943                     Britax B-Ready Stroller, Black   \n",
       "58044         Graco TurboBooster Car Seat  Hearts Delight   \n",
       "138096  Graco Trekko Classic Connect Stroller, Metropolis   \n",
       "14008       Stork Craft Beatrice Combo Tower Chest, White   \n",
       "46975                                                       \n",
       "125408               UPPAbaby G-Luxe Stroller, Jake/Black   \n",
       "\n",
       "                                                   review  rating  \\\n",
       "100166  I bought this carrier when my daughter was abo...       5   \n",
       "158209  (updated 3.22.13) After extensive research, tr...       5   \n",
       "133651  [I got this stroller for my daughter prior to ...       4   \n",
       "152013  I researched strollers for months and months b...       5   \n",
       "80155   I just tried this hands free breastpump bra, a...       5   \n",
       "50735   The joovy zoom 360 was the perfect solution fo...       5   \n",
       "21557   Ok, I read all the reviews already posted here...       5   \n",
       "116072  ***I've posted an UPDATE at the end***First, l...       5   \n",
       "161127  My dad just bought this car seat for me/my son...       5   \n",
       "123632  I did a TON of research before I purchased thi...       5   \n",
       "162354  I love having a new baby in the house, and eve...       5   \n",
       "98989   OK first off - I want to say that I did a LOT ...       5   \n",
       "144112  Background- I've been using Grovia diapers for...       4   \n",
       "129212  I have the Baby Jogger City Select with Second...       5   \n",
       "108943  Some differences with Uppababy Vs. Britax B-Re...       4   \n",
       "58044   My 3  year old was ready for a \"big girl car s...       5   \n",
       "138096  When I found out that I was expecting, I began...       4   \n",
       "14008   I bought the tower despite the bad reviews and...       5   \n",
       "46975   **UPDATE**I got this play yard when my son was...       5   \n",
       "125408  UPDATE: 2.5 years in and we still love it.  We...       5   \n",
       "\n",
       "                                             review_clean  sentiment  \n",
       "100166  I bought this carrier when my daughter was abo...          1  \n",
       "158209  updated 32213 After extensive research trial a...          1  \n",
       "133651  I got this stroller for my daughter prior to t...          1  \n",
       "152013  I researched strollers for months and months b...          1  \n",
       "80155   I just tried this hands free breastpump bra an...          1  \n",
       "50735   The joovy zoom 360 was the perfect solution fo...          1  \n",
       "21557   Ok I read all the reviews already posted here ...          1  \n",
       "116072  Ive posted an UPDATE at the endFirst let me st...          1  \n",
       "161127  My dad just bought this car seat for memy son ...          1  \n",
       "123632  I did a TON of research before I purchased thi...          1  \n",
       "162354  I love having a new baby in the house and even...          1  \n",
       "98989   OK first off  I want to say that I did a LOT o...          1  \n",
       "144112  Background Ive been using Grovia diapers for f...          1  \n",
       "129212  I have the Baby Jogger City Select with Second...          1  \n",
       "108943  Some differences with Uppababy Vs Britax BRead...          1  \n",
       "58044   My 3  year old was ready for a big girl car se...          1  \n",
       "138096  When I found out that I was expecting I began ...          1  \n",
       "14008   I bought the tower despite the bad reviews and...          1  \n",
       "46975   UPDATEI got this play yard when my son was 6 m...          1  \n",
       "125408  UPDATE 25 years in and we still love it  We ha...          1  "
      ]
     },
     "execution_count": 78,
     "metadata": {},
     "output_type": "execute_result"
    }
   ],
   "source": [
    "top20TestData = test_data.iloc[indexes[0:20]]\n",
    "top20TestData"
   ]
  },
  {
   "cell_type": "markdown",
   "metadata": {},
   "source": [
    "**Quiz Question**: Which of the following products are represented in the 20 most positive reviews? [multiple choice]\n",
    "\n",
    "\n",
    "Now, let us repeat this excercise to find the \"most negative reviews.\" Use the prediction probabilities to find the  20 reviews in the **test_data** with the **lowest probability** of being classified as a **positive review**. Repeat the same steps above but make sure you **sort in the opposite order**."
   ]
  },
  {
   "cell_type": "code",
   "execution_count": 80,
   "metadata": {
    "collapsed": false,
    "scrolled": true
   },
   "outputs": [
    {
     "data": {
      "text/html": [
       "<div>\n",
       "<table border=\"1\" class=\"dataframe\">\n",
       "  <thead>\n",
       "    <tr style=\"text-align: right;\">\n",
       "      <th></th>\n",
       "      <th>name</th>\n",
       "      <th>review</th>\n",
       "      <th>rating</th>\n",
       "      <th>review_clean</th>\n",
       "      <th>sentiment</th>\n",
       "    </tr>\n",
       "  </thead>\n",
       "  <tbody>\n",
       "    <tr>\n",
       "      <th>87026</th>\n",
       "      <td>Baby Einstein Around The World Discovery Center</td>\n",
       "      <td>First off, I did manage to find this product f...</td>\n",
       "      <td>1</td>\n",
       "      <td>First off I did manage to find this product fo...</td>\n",
       "      <td>-1</td>\n",
       "    </tr>\n",
       "    <tr>\n",
       "      <th>120707</th>\n",
       "      <td>The European NANNY Baby Movement Monitor - EU ...</td>\n",
       "      <td>The previous reviewers laud the \"piece of mind...</td>\n",
       "      <td>1</td>\n",
       "      <td>The previous reviewers laud the piece of mind ...</td>\n",
       "      <td>-1</td>\n",
       "    </tr>\n",
       "    <tr>\n",
       "      <th>2186</th>\n",
       "      <td>Philips Avent 3 Pack 9oz Bottles</td>\n",
       "      <td>(This is a long review, but if you read the wh...</td>\n",
       "      <td>1</td>\n",
       "      <td>This is a long review but if you read the whol...</td>\n",
       "      <td>-1</td>\n",
       "    </tr>\n",
       "    <tr>\n",
       "      <th>10370</th>\n",
       "      <td>Wimmer-Ferguson Infant Stim-Mobile</td>\n",
       "      <td>This product should be in the hall of fame sol...</td>\n",
       "      <td>1</td>\n",
       "      <td>This product should be in the hall of fame sol...</td>\n",
       "      <td>-1</td>\n",
       "    </tr>\n",
       "    <tr>\n",
       "      <th>131738</th>\n",
       "      <td>Kids Line Cascade Bow Diaper Bag, Black</td>\n",
       "      <td>I purchased this in the black color.  For some...</td>\n",
       "      <td>2</td>\n",
       "      <td>I purchased this in the black color  For some ...</td>\n",
       "      <td>-1</td>\n",
       "    </tr>\n",
       "    <tr>\n",
       "      <th>20331</th>\n",
       "      <td>Cabinet Flex-Lock (2 pack) from Safety First</td>\n",
       "      <td>I am a mother of 4 children, ages 6-18 months....</td>\n",
       "      <td>5</td>\n",
       "      <td>I am a mother of 4 children ages 618 months  I...</td>\n",
       "      <td>1</td>\n",
       "    </tr>\n",
       "    <tr>\n",
       "      <th>47740</th>\n",
       "      <td>Room Magic Desk/Chair Set, Tropical Seas Natural</td>\n",
       "      <td>It's such a shame, this desk. It is marketed a...</td>\n",
       "      <td>1</td>\n",
       "      <td>Its such a shame this desk It is marketed as a...</td>\n",
       "      <td>-1</td>\n",
       "    </tr>\n",
       "    <tr>\n",
       "      <th>143095</th>\n",
       "      <td>Graco ComfortSport Convertible Car Seat, Zara</td>\n",
       "      <td>This is a dreadful car seat. I would *never* r...</td>\n",
       "      <td>1</td>\n",
       "      <td>This is a dreadful car seat I would never reco...</td>\n",
       "      <td>-1</td>\n",
       "    </tr>\n",
       "    <tr>\n",
       "      <th>38197</th>\n",
       "      <td>JJ Cole System Bag - Graphite/Green</td>\n",
       "      <td>I just wanted to take the time to tell you how...</td>\n",
       "      <td>2</td>\n",
       "      <td>I just wanted to take the time to tell you how...</td>\n",
       "      <td>-1</td>\n",
       "    </tr>\n",
       "    <tr>\n",
       "      <th>145109</th>\n",
       "      <td>Withings Smart Baby Monitor, White</td>\n",
       "      <td>Ok, the good.  During the day, the quality of ...</td>\n",
       "      <td>1</td>\n",
       "      <td>Ok the good  During the day the quality of the...</td>\n",
       "      <td>-1</td>\n",
       "    </tr>\n",
       "    <tr>\n",
       "      <th>158046</th>\n",
       "      <td>Motorola Blink1 Wi-Fi Video Camera for Remote ...</td>\n",
       "      <td>We really wanted to like this product.  As bac...</td>\n",
       "      <td>2</td>\n",
       "      <td>We really wanted to like this product  As back...</td>\n",
       "      <td>-1</td>\n",
       "    </tr>\n",
       "    <tr>\n",
       "      <th>131280</th>\n",
       "      <td>Motorola MBP36 Remote Wireless Video Baby Moni...</td>\n",
       "      <td>Our screen broke after 3 months.  It was an ac...</td>\n",
       "      <td>1</td>\n",
       "      <td>Our screen broke after 3 months  It was an acc...</td>\n",
       "      <td>-1</td>\n",
       "    </tr>\n",
       "    <tr>\n",
       "      <th>12643</th>\n",
       "      <td>900 MHz Home Connection Monitor</td>\n",
       "      <td>When I received the Home Connection Monitor on...</td>\n",
       "      <td>1</td>\n",
       "      <td>When I received the Home Connection Monitor on...</td>\n",
       "      <td>-1</td>\n",
       "    </tr>\n",
       "    <tr>\n",
       "      <th>134698</th>\n",
       "      <td>Infant Optics DXR-5 2.4 GHz Digital Video Baby...</td>\n",
       "      <td>I am returning this product, but before I get ...</td>\n",
       "      <td>2</td>\n",
       "      <td>I am returning this product but before I get t...</td>\n",
       "      <td>-1</td>\n",
       "    </tr>\n",
       "    <tr>\n",
       "      <th>10677</th>\n",
       "      <td>Philips AVENT Newborn Starter Set</td>\n",
       "      <td>It's 3am in the morning and needless to say, t...</td>\n",
       "      <td>1</td>\n",
       "      <td>Its 3am in the morning and needless to say thi...</td>\n",
       "      <td>-1</td>\n",
       "    </tr>\n",
       "    <tr>\n",
       "      <th>155931</th>\n",
       "      <td>Britax B-Safe Infant Car Seat, Black</td>\n",
       "      <td>PROS:Looks good. Sleek blackHigh weight limits...</td>\n",
       "      <td>1</td>\n",
       "      <td>PROSLooks good Sleek blackHigh weight limitsSa...</td>\n",
       "      <td>-1</td>\n",
       "    </tr>\n",
       "    <tr>\n",
       "      <th>123506</th>\n",
       "      <td>Peg-Perego Vela Easy Drive Stroller, Geranium</td>\n",
       "      <td>DO not buy this stroller, it is horrible and a...</td>\n",
       "      <td>1</td>\n",
       "      <td>DO not buy this stroller it is horrible and a ...</td>\n",
       "      <td>-1</td>\n",
       "    </tr>\n",
       "    <tr>\n",
       "      <th>78811</th>\n",
       "      <td>Tike Tech Single City X4 Swivel Stroller, Paci...</td>\n",
       "      <td>I initially thought this was a very sturdy, lo...</td>\n",
       "      <td>2</td>\n",
       "      <td>I initially thought this was a very sturdy lon...</td>\n",
       "      <td>-1</td>\n",
       "    </tr>\n",
       "    <tr>\n",
       "      <th>1116</th>\n",
       "      <td>Safety 1st Deluxe 4-in-1 Bath Station</td>\n",
       "      <td>This item is junk.  I originally chose it beca...</td>\n",
       "      <td>1</td>\n",
       "      <td>This item is junk  I originally chose it becau...</td>\n",
       "      <td>-1</td>\n",
       "    </tr>\n",
       "    <tr>\n",
       "      <th>117887</th>\n",
       "      <td>Belly Blanket Chic: Metro</td>\n",
       "      <td>Written claims on product packaging:\"99.9% Shi...</td>\n",
       "      <td>1</td>\n",
       "      <td>Written claims on product packaging999 Shieldi...</td>\n",
       "      <td>-1</td>\n",
       "    </tr>\n",
       "  </tbody>\n",
       "</table>\n",
       "</div>"
      ],
      "text/plain": [
       "                                                     name  \\\n",
       "87026     Baby Einstein Around The World Discovery Center   \n",
       "120707  The European NANNY Baby Movement Monitor - EU ...   \n",
       "2186                     Philips Avent 3 Pack 9oz Bottles   \n",
       "10370                  Wimmer-Ferguson Infant Stim-Mobile   \n",
       "131738            Kids Line Cascade Bow Diaper Bag, Black   \n",
       "20331        Cabinet Flex-Lock (2 pack) from Safety First   \n",
       "47740    Room Magic Desk/Chair Set, Tropical Seas Natural   \n",
       "143095      Graco ComfortSport Convertible Car Seat, Zara   \n",
       "38197                 JJ Cole System Bag - Graphite/Green   \n",
       "145109                 Withings Smart Baby Monitor, White   \n",
       "158046  Motorola Blink1 Wi-Fi Video Camera for Remote ...   \n",
       "131280  Motorola MBP36 Remote Wireless Video Baby Moni...   \n",
       "12643                     900 MHz Home Connection Monitor   \n",
       "134698  Infant Optics DXR-5 2.4 GHz Digital Video Baby...   \n",
       "10677                   Philips AVENT Newborn Starter Set   \n",
       "155931               Britax B-Safe Infant Car Seat, Black   \n",
       "123506      Peg-Perego Vela Easy Drive Stroller, Geranium   \n",
       "78811   Tike Tech Single City X4 Swivel Stroller, Paci...   \n",
       "1116                Safety 1st Deluxe 4-in-1 Bath Station   \n",
       "117887                          Belly Blanket Chic: Metro   \n",
       "\n",
       "                                                   review  rating  \\\n",
       "87026   First off, I did manage to find this product f...       1   \n",
       "120707  The previous reviewers laud the \"piece of mind...       1   \n",
       "2186    (This is a long review, but if you read the wh...       1   \n",
       "10370   This product should be in the hall of fame sol...       1   \n",
       "131738  I purchased this in the black color.  For some...       2   \n",
       "20331   I am a mother of 4 children, ages 6-18 months....       5   \n",
       "47740   It's such a shame, this desk. It is marketed a...       1   \n",
       "143095  This is a dreadful car seat. I would *never* r...       1   \n",
       "38197   I just wanted to take the time to tell you how...       2   \n",
       "145109  Ok, the good.  During the day, the quality of ...       1   \n",
       "158046  We really wanted to like this product.  As bac...       2   \n",
       "131280  Our screen broke after 3 months.  It was an ac...       1   \n",
       "12643   When I received the Home Connection Monitor on...       1   \n",
       "134698  I am returning this product, but before I get ...       2   \n",
       "10677   It's 3am in the morning and needless to say, t...       1   \n",
       "155931  PROS:Looks good. Sleek blackHigh weight limits...       1   \n",
       "123506  DO not buy this stroller, it is horrible and a...       1   \n",
       "78811   I initially thought this was a very sturdy, lo...       2   \n",
       "1116    This item is junk.  I originally chose it beca...       1   \n",
       "117887  Written claims on product packaging:\"99.9% Shi...       1   \n",
       "\n",
       "                                             review_clean  sentiment  \n",
       "87026   First off I did manage to find this product fo...         -1  \n",
       "120707  The previous reviewers laud the piece of mind ...         -1  \n",
       "2186    This is a long review but if you read the whol...         -1  \n",
       "10370   This product should be in the hall of fame sol...         -1  \n",
       "131738  I purchased this in the black color  For some ...         -1  \n",
       "20331   I am a mother of 4 children ages 618 months  I...          1  \n",
       "47740   Its such a shame this desk It is marketed as a...         -1  \n",
       "143095  This is a dreadful car seat I would never reco...         -1  \n",
       "38197   I just wanted to take the time to tell you how...         -1  \n",
       "145109  Ok the good  During the day the quality of the...         -1  \n",
       "158046  We really wanted to like this product  As back...         -1  \n",
       "131280  Our screen broke after 3 months  It was an acc...         -1  \n",
       "12643   When I received the Home Connection Monitor on...         -1  \n",
       "134698  I am returning this product but before I get t...         -1  \n",
       "10677   Its 3am in the morning and needless to say thi...         -1  \n",
       "155931  PROSLooks good Sleek blackHigh weight limitsSa...         -1  \n",
       "123506  DO not buy this stroller it is horrible and a ...         -1  \n",
       "78811   I initially thought this was a very sturdy lon...         -1  \n",
       "1116    This item is junk  I originally chose it becau...         -1  \n",
       "117887  Written claims on product packaging999 Shieldi...         -1  "
      ]
     },
     "execution_count": 80,
     "metadata": {},
     "output_type": "execute_result"
    }
   ],
   "source": [
    "reversed_arr = indexes\n",
    "worst20TestData = test_data.iloc[indexes[::-1][0:20]]\n",
    "worst20TestData"
   ]
  },
  {
   "cell_type": "markdown",
   "metadata": {
    "collapsed": true
   },
   "source": [
    "**Quiz Question**: Which of the following products are represented in the 20 most negative reviews?  [multiple choice]"
   ]
  },
  {
   "cell_type": "markdown",
   "metadata": {},
   "source": [
    "## Compute accuracy of the classifier\n",
    "\n",
    "We will now evaluate the accuracy of the trained classifer. Recall that the accuracy is given by\n",
    "\n",
    "\n",
    "$$\n",
    "\\mbox{accuracy} = \\frac{\\mbox{# correctly classified examples}}{\\mbox{# total examples}}\n",
    "$$\n",
    "\n",
    "This can be computed as follows:\n",
    "\n",
    "* **Step 1:** Use the trained model to compute class predictions (**Hint:** Use the `predict` method)\n",
    "* **Step 2:** Count the number of data points when the predicted class labels match the ground truth labels (called `true_labels` below).\n",
    "* **Step 3:** Divide the total number of correct predictions by the total number of data points in the dataset.\n",
    "\n",
    "Complete the function below to compute the classification accuracy:"
   ]
  },
  {
   "cell_type": "code",
   "execution_count": 48,
   "metadata": {
    "collapsed": false,
    "scrolled": true
   },
   "outputs": [],
   "source": [
    "def get_classification_accuracy(model, data, true_labels):\n",
    "    predictions = model.predict(data)\n",
    "    counter = 0\n",
    "    \n",
    "    for i  in range(len(true_labels)):\n",
    "        if true_labels.iloc[i] == predictions[i]:\n",
    "            counter = counter + 1 \n",
    "                    \n",
    "    accuracy = counter / len(true_labels)\n",
    "    \n",
    "    return accuracy"
   ]
  },
  {
   "cell_type": "markdown",
   "metadata": {},
   "source": [
    "Now, let's compute the classification accuracy of the **sentiment_model** on the **test_data**."
   ]
  },
  {
   "cell_type": "code",
   "execution_count": 49,
   "metadata": {
    "collapsed": false
   },
   "outputs": [
    {
     "data": {
      "text/plain": [
       "0.9331395348837209"
      ]
     },
     "execution_count": 49,
     "metadata": {},
     "output_type": "execute_result"
    }
   ],
   "source": [
    "#test = test_data['sentiment']\n",
    "#len(test)\n",
    "get_classification_accuracy(sentiment_model, test_matrix, test_data['sentiment'])"
   ]
  },
  {
   "cell_type": "markdown",
   "metadata": {},
   "source": [
    "**Quiz Question**: What is the accuracy of the **sentiment_model** on the **test_data**? Round your answer to 2 decimal places (e.g. 0.76).\n",
    "\n",
    "**Quiz Question**: Does a higher accuracy value on the **training_data** always imply that the classifier is better?"
   ]
  },
  {
   "cell_type": "markdown",
   "metadata": {},
   "source": [
    "## Learn another classifier with fewer words\n",
    "\n",
    "There were a lot of words in the model we trained above. We will now train a simpler logistic regression model using only a subet of words that occur in the reviews. For this assignment, we selected a 20 words to work with. These are:"
   ]
  },
  {
   "cell_type": "code",
   "execution_count": 50,
   "metadata": {
    "collapsed": true
   },
   "outputs": [],
   "source": [
    "significant_words = ['love', 'great', 'easy', 'old', 'little', 'perfect', 'loves', \n",
    "      'well', 'able', 'car', 'broke', 'less', 'even', 'waste', 'disappointed', \n",
    "      'work', 'product', 'money', 'would', 'return']"
   ]
  },
  {
   "cell_type": "code",
   "execution_count": 51,
   "metadata": {
    "collapsed": false
   },
   "outputs": [
    {
     "data": {
      "text/plain": [
       "20"
      ]
     },
     "execution_count": 51,
     "metadata": {},
     "output_type": "execute_result"
    }
   ],
   "source": [
    "len(significant_words)"
   ]
  },
  {
   "cell_type": "markdown",
   "metadata": {},
   "source": [
    "For each review, we will use the **word_count** column and trim out all words that are **not** in the **significant_words** list above. We will use the [SArray dictionary trim by keys functionality]( https://dato.com/products/create/docs/generated/graphlab.SArray.dict_trim_by_keys.html). Note that we are performing this on both the training and test set."
   ]
  },
  {
   "cell_type": "code",
   "execution_count": 52,
   "metadata": {
    "collapsed": false
   },
   "outputs": [],
   "source": [
    "vectorizer_word_subset = CountVectorizer(vocabulary=significant_words) # limit to 20 words\n",
    "train_matrix_word_subset = vectorizer_word_subset.fit_transform(train_data['review_clean'])\n",
    "test_matrix_word_subset = vectorizer_word_subset.transform(test_data['review_clean'])"
   ]
  },
  {
   "cell_type": "markdown",
   "metadata": {},
   "source": [
    "Let's see what the first example of the dataset looks like:"
   ]
  },
  {
   "cell_type": "code",
   "execution_count": 53,
   "metadata": {
    "collapsed": false
   },
   "outputs": [
    {
     "data": {
      "text/plain": [
       "'it came early and was not disappointed. i love planet wise bags and now my wipe holder. it keps my osocozy wipes moist and does not leak. highly recommend it.'"
      ]
     },
     "execution_count": 53,
     "metadata": {},
     "output_type": "execute_result"
    }
   ],
   "source": [
    "train_data.iloc[0]['review']"
   ]
  },
  {
   "cell_type": "markdown",
   "metadata": {},
   "source": [
    "The **word_count** column had been working with before looks like the following:"
   ]
  },
  {
   "cell_type": "markdown",
   "metadata": {},
   "source": [
    "Since we are only working with a subet of these words, the column **word_count_subset** is a subset of the above dictionary. In this example, only 2 `significant words` are present in this review."
   ]
  },
  {
   "cell_type": "markdown",
   "metadata": {},
   "source": [
    "## Train a logistic regression model on a subset of data"
   ]
  },
  {
   "cell_type": "markdown",
   "metadata": {},
   "source": [
    "We will now build a classifier with **word_count_subset** as the feature and **sentiment** as the target. "
   ]
  },
  {
   "cell_type": "code",
   "execution_count": 54,
   "metadata": {
    "collapsed": false
   },
   "outputs": [
    {
     "data": {
      "text/plain": [
       "0.86506038009766395"
      ]
     },
     "execution_count": 54,
     "metadata": {},
     "output_type": "execute_result"
    }
   ],
   "source": [
    "# instantiate a logistic regression model, and fit with X and y\n",
    "simple_model = LogisticRegression()\n",
    "fit = simple_model.fit(train_matrix_word_subset, train_data[\"sentiment\"])\n",
    "simple_model.score(train_matrix_word_subset, train_data[\"sentiment\"])"
   ]
  },
  {
   "cell_type": "markdown",
   "metadata": {},
   "source": [
    "We can compute the classification accuracy using the `get_classification_accuracy` function you implemented earlier."
   ]
  },
  {
   "cell_type": "code",
   "execution_count": 55,
   "metadata": {
    "collapsed": false
   },
   "outputs": [
    {
     "data": {
      "text/plain": [
       "0.8688887420718816"
      ]
     },
     "execution_count": 55,
     "metadata": {},
     "output_type": "execute_result"
    }
   ],
   "source": [
    "get_classification_accuracy(simple_model, test_matrix_word_subset, test_data['sentiment'])"
   ]
  },
  {
   "cell_type": "markdown",
   "metadata": {},
   "source": [
    "Now, we will inspect the weights (coefficients) of the **simple_model**:"
   ]
  },
  {
   "cell_type": "code",
   "execution_count": 56,
   "metadata": {
    "collapsed": false
   },
   "outputs": [
    {
     "data": {
      "text/plain": [
       "array([[ 1.36203081,  0.9256235 ,  1.18622159,  0.12446413,  0.5005022 ,\n",
       "         1.51739463,  1.74372727,  0.47070728,  0.18311141,  0.0915784 ,\n",
       "        -1.66313686, -0.18950968, -0.5211078 , -2.0162454 , -2.35513176,\n",
       "        -0.6335363 , -0.30968213, -0.88460916, -0.33723794, -2.01824345]])"
      ]
     },
     "execution_count": 56,
     "metadata": {},
     "output_type": "execute_result"
    }
   ],
   "source": [
    "simple_model.coef_"
   ]
  },
  {
   "cell_type": "markdown",
   "metadata": {},
   "source": [
    "Let's sort the coefficients (in descending order) by the **value** to obtain the coefficients with the most positive effect on the sentiment."
   ]
  },
  {
   "cell_type": "code",
   "execution_count": 57,
   "metadata": {
    "collapsed": false
   },
   "outputs": [
    {
     "data": {
      "text/plain": [
       "array([[ 1.36203081,  0.9256235 ,  1.18622159,  0.12446413,  0.5005022 ,\n",
       "         1.51739463,  1.74372727,  0.47070728,  0.18311141,  0.0915784 ,\n",
       "        -1.66313686, -0.18950968, -0.5211078 , -2.0162454 , -2.35513176,\n",
       "        -0.6335363 , -0.30968213, -0.88460916, -0.33723794, -2.01824345]])"
      ]
     },
     "execution_count": 57,
     "metadata": {},
     "output_type": "execute_result"
    }
   ],
   "source": [
    "#simple_model.coefficients.sort('value', ascending=False).print_rows(num_rows=21)\n",
    "\n",
    "simpleModelCoefficients =  simple_model.coef_[::-1]\n",
    "simpleModelCoefficients\n",
    "#print(indexes[0:20])"
   ]
  },
  {
   "cell_type": "markdown",
   "metadata": {},
   "source": [
    "**Quiz Question**: Consider the coefficients of **simple_model**. There should be 21 of them, an intercept term + one for each word in **significant_words**. How many of the 20 coefficients (corresponding to the 20 **significant_words** and *excluding the intercept term*) are positive for the `simple_model`?"
   ]
  },
  {
   "cell_type": "code",
   "execution_count": null,
   "metadata": {
    "collapsed": false
   },
   "outputs": [],
   "source": []
  },
  {
   "cell_type": "markdown",
   "metadata": {},
   "source": [
    "**Quiz Question**: Are the positive words in the **simple_model** (let us call them `positive_significant_words`) also positive words in the **sentiment_model**?"
   ]
  },
  {
   "cell_type": "code",
   "execution_count": null,
   "metadata": {
    "collapsed": false
   },
   "outputs": [],
   "source": []
  },
  {
   "cell_type": "markdown",
   "metadata": {},
   "source": [
    "# Comparing models"
   ]
  },
  {
   "cell_type": "markdown",
   "metadata": {},
   "source": [
    "We will now compare the accuracy of the **sentiment_model** and the **simple_model** using the `get_classification_accuracy` method you implemented above.\n",
    "\n",
    "First, compute the classification accuracy of the **sentiment_model** on the **train_data**:"
   ]
  },
  {
   "cell_type": "code",
   "execution_count": 58,
   "metadata": {
    "collapsed": false,
    "scrolled": true
   },
   "outputs": [
    {
     "data": {
      "text/plain": [
       "0.966065065329286"
      ]
     },
     "execution_count": 58,
     "metadata": {},
     "output_type": "execute_result"
    }
   ],
   "source": [
    "get_classification_accuracy(sentiment_model, train_matrix, train_data['sentiment'])"
   ]
  },
  {
   "cell_type": "markdown",
   "metadata": {},
   "source": [
    "Now, compute the classification accuracy of the **simple_model** on the **train_data**:"
   ]
  },
  {
   "cell_type": "code",
   "execution_count": 59,
   "metadata": {
    "collapsed": false
   },
   "outputs": [
    {
     "data": {
      "text/plain": [
       "0.865060380097664"
      ]
     },
     "execution_count": 59,
     "metadata": {},
     "output_type": "execute_result"
    }
   ],
   "source": [
    "get_classification_accuracy(simple_model, train_matrix_word_subset, train_data['sentiment'])"
   ]
  },
  {
   "cell_type": "markdown",
   "metadata": {},
   "source": [
    "**Quiz Question**: Which model (**sentiment_model** or **simple_model**) has higher accuracy on the TRAINING set?"
   ]
  },
  {
   "cell_type": "markdown",
   "metadata": {},
   "source": [
    "Now, we will repeat this excercise on the **test_data**. Start by computing the classification accuracy of the **sentiment_model** on the **test_data**:"
   ]
  },
  {
   "cell_type": "code",
   "execution_count": 60,
   "metadata": {
    "collapsed": false
   },
   "outputs": [
    {
     "data": {
      "text/plain": [
       "0.9331395348837209"
      ]
     },
     "execution_count": 60,
     "metadata": {},
     "output_type": "execute_result"
    }
   ],
   "source": [
    "get_classification_accuracy(sentiment_model, test_matrix, test_data['sentiment'])"
   ]
  },
  {
   "cell_type": "markdown",
   "metadata": {},
   "source": [
    "Next, we will compute the classification accuracy of the **simple_model** on the **test_data**:"
   ]
  },
  {
   "cell_type": "code",
   "execution_count": 61,
   "metadata": {
    "collapsed": false
   },
   "outputs": [
    {
     "data": {
      "text/plain": [
       "0.8688887420718816"
      ]
     },
     "execution_count": 61,
     "metadata": {},
     "output_type": "execute_result"
    }
   ],
   "source": [
    "get_classification_accuracy(simple_model, test_matrix_word_subset, test_data['sentiment'])"
   ]
  },
  {
   "cell_type": "markdown",
   "metadata": {},
   "source": [
    "**Quiz Question**: Which model (**sentiment_model** or **simple_model**) has higher accuracy on the TEST set?"
   ]
  },
  {
   "cell_type": "markdown",
   "metadata": {},
   "source": [
    "## Baseline: Majority class prediction\n",
    "\n",
    "It is quite common to use the **majority class classifier** as the a baseline (or reference) model for comparison with your classifier model. The majority classifier model predicts the majority class for all data points. At the very least, you should healthily beat the majority class classifier, otherwise, the model is (usually) pointless.\n",
    "\n",
    "What is the majority class in the **train_data**?"
   ]
  },
  {
   "cell_type": "code",
   "execution_count": 62,
   "metadata": {
    "collapsed": false
   },
   "outputs": [
    {
     "name": "stdout",
     "output_type": "stream",
     "text": [
      "101674\n",
      "19558\n"
     ]
    }
   ],
   "source": [
    "num_positive  = (train_data['sentiment'] == +1).sum()\n",
    "num_negative = (train_data['sentiment'] == -1).sum()\n",
    "print (num_positive)\n",
    "print (num_negative)"
   ]
  },
  {
   "cell_type": "markdown",
   "metadata": {},
   "source": [
    "Now compute the accuracy of the majority class classifier on **test_data**.\n",
    "\n",
    "**Quiz Question**: Enter the accuracy of the majority class classifier model on the **test_data**. Round your answer to two decimal places (e.g. 0.76)."
   ]
  },
  {
   "cell_type": "code",
   "execution_count": 63,
   "metadata": {
    "collapsed": false,
    "scrolled": true
   },
   "outputs": [
    {
     "data": {
      "text/plain": [
       "0.83867295763494787"
      ]
     },
     "execution_count": 63,
     "metadata": {},
     "output_type": "execute_result"
    }
   ],
   "source": [
    "num_positive / (num_negative + num_positive )"
   ]
  },
  {
   "cell_type": "markdown",
   "metadata": {},
   "source": [
    "**Quiz Question**: Is the **sentiment_model** definitely better than the majority class classifier (the baseline)?"
   ]
  }
 ],
 "metadata": {
  "kernelspec": {
   "display_name": "Python 2",
   "language": "python",
   "name": "python2"
  },
  "language_info": {
   "codemirror_mode": {
    "name": "ipython",
    "version": 2
   },
   "file_extension": ".py",
   "mimetype": "text/x-python",
   "name": "python",
   "nbconvert_exporter": "python",
   "pygments_lexer": "ipython2",
   "version": "2.7.11"
  }
 },
 "nbformat": 4,
 "nbformat_minor": 0
}
